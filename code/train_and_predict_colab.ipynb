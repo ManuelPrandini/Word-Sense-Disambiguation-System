{
  "nbformat": 4,
  "nbformat_minor": 0,
  "metadata": {
    "colab": {
      "name": "train_and_predict_colab.ipynb",
      "version": "0.3.2",
      "provenance": [],
      "collapsed_sections": [],
      "toc_visible": true
    },
    "kernelspec": {
      "name": "python3",
      "display_name": "Python 3"
    },
    "accelerator": "GPU"
  },
  "cells": [
    {
      "cell_type": "markdown",
      "metadata": {
        "id": "ClV_nQDMaig0",
        "colab_type": "text"
      },
      "source": [
        "# Training Phase\n",
        "This file .ypynb is the proof that I really worked on this Homework.\n",
        "I did training of the model on Colab, and also the predict because in local it was\n",
        "very slowly. But I implemented also the predict.py, so you can test it using that.\n"
      ]
    },
    {
      "cell_type": "code",
      "metadata": {
        "id": "MWaiSdaa3W4A",
        "colab_type": "code",
        "outputId": "4948889e-0f1c-4530-fa11-a4331fba7bc9",
        "colab": {
          "base_uri": "https://localhost:8080/",
          "height": 122
        }
      },
      "source": [
        "from google.colab import drive\n",
        "drive.mount('/content/drive')"
      ],
      "execution_count": 0,
      "outputs": [
        {
          "output_type": "stream",
          "text": [
            "Go to this URL in a browser: https://accounts.google.com/o/oauth2/auth?client_id=947318989803-6bn6qk8qdgf4n4g3pfee6491hc0brc4i.apps.googleusercontent.com&redirect_uri=urn%3Aietf%3Awg%3Aoauth%3A2.0%3Aoob&scope=email%20https%3A%2F%2Fwww.googleapis.com%2Fauth%2Fdocs.test%20https%3A%2F%2Fwww.googleapis.com%2Fauth%2Fdrive%20https%3A%2F%2Fwww.googleapis.com%2Fauth%2Fdrive.photos.readonly%20https%3A%2F%2Fwww.googleapis.com%2Fauth%2Fpeopleapi.readonly&response_type=code\n",
            "\n",
            "Enter your authorization code:\n",
            "··········\n",
            "Mounted at /content/drive\n"
          ],
          "name": "stdout"
        }
      ]
    },
    {
      "cell_type": "code",
      "metadata": {
        "id": "xKKd5kG9edT5",
        "colab_type": "code",
        "outputId": "66e78dd7-aad0-4531-baa7-93898b3c4ce1",
        "colab": {
          "base_uri": "https://localhost:8080/",
          "height": 986
        }
      },
      "source": [
        "!unzip 'drive/My Drive/training_on_colab.zip'"
      ],
      "execution_count": 0,
      "outputs": [
        {
          "output_type": "stream",
          "text": [
            "Archive:  drive/My Drive/training_on_colab.zip\n",
            "   creating: training_on_colab/\n",
            "  inflating: training_on_colab/babelnet2lexnames.tsv  \n",
            "  inflating: training_on_colab/babelnet2wndomains.tsv  \n",
            "  inflating: training_on_colab/babelnet2wordnet.tsv  \n",
            "   creating: training_on_colab/train/\n",
            "  inflating: training_on_colab/train/eurosense.dom.labels.txt  \n",
            "  inflating: training_on_colab/train/eurosense.lex.labels.txt  \n",
            "  inflating: training_on_colab/train/eurosense.resize.bn.labels.txt  \n",
            "  inflating: training_on_colab/train/eurosense.resize.input.txt  \n",
            "  inflating: training_on_colab/train/semcor.bn.labels.txt  \n",
            "  inflating: training_on_colab/train/semcor.dom.labels.txt  \n",
            "  inflating: training_on_colab/train/semcor.input.txt  \n",
            "  inflating: training_on_colab/train/semcor.lex.labels.txt  \n",
            "  inflating: training_on_colab/train/tom.dom.labels.txt  \n",
            "  inflating: training_on_colab/train/tom.lex.labels.txt  \n",
            "  inflating: training_on_colab/train/tom.resize.bn.labels.txt  \n",
            "  inflating: training_on_colab/train/tom.resize.input.txt  \n",
            "  inflating: training_on_colab/train/semcor.gold.key.txt  \n",
            "   creating: training_on_colab/dev/\n",
            "  inflating: training_on_colab/dev/semeval2007.bn.labels.txt  \n",
            "  inflating: training_on_colab/dev/semeval2007.input.txt  \n",
            "  inflating: training_on_colab/dev/semeval2007.data.xml  \n",
            "  inflating: training_on_colab/dev/semeval2007.gold.key.txt  \n",
            "  inflating: training_on_colab/dev/semeval2007.dom.labels.txt  \n",
            "  inflating: training_on_colab/dev/semeval2007.lex.labels.txt  \n",
            "   creating: training_on_colab/test/\n",
            "  inflating: training_on_colab/test/semeval2015.gold.lexnames.txt  \n",
            "  inflating: training_on_colab/test/semeval2007.gold.lexnames.txt  \n",
            "  inflating: training_on_colab/test/senseval2.gold.babelnet.txt  \n",
            "  inflating: training_on_colab/test/senseval2.gold.domains.txt  \n",
            "  inflating: training_on_colab/test/senseval2.gold.lexnames.txt  \n",
            "  inflating: training_on_colab/test/senseval3.gold.babelnet.txt  \n",
            "  inflating: training_on_colab/test/senseval3.gold.domains.txt  \n",
            "  inflating: training_on_colab/test/senseval3.gold.lexnames.txt  \n",
            "  inflating: training_on_colab/test/senseval3.gold.key.txt  \n",
            "  inflating: training_on_colab/test/ALL.gold.lexnames.txt  \n",
            "  inflating: training_on_colab/test/ALL.data.xml  \n",
            "  inflating: training_on_colab/test/ALL.gold.key.txt  \n",
            "  inflating: training_on_colab/test/ALL.gold.babelnet.txt  \n",
            "  inflating: training_on_colab/test/semeval2007.gold.babelnet.txt  \n",
            "  inflating: training_on_colab/test/semeval2007.data.xml  \n",
            "  inflating: training_on_colab/test/semeval2007.gold.key.txt  \n",
            "  inflating: training_on_colab/test/ALL.gold.domains.txt  \n",
            "  inflating: training_on_colab/test/semeval2013.data.xml  \n",
            "  inflating: training_on_colab/test/semeval2013.gold.key.txt  \n",
            "  inflating: training_on_colab/test/semeval2013.gold.babelnet.txt  \n",
            "  inflating: training_on_colab/test/semeval2013.gold.domains.txt  \n",
            "  inflating: training_on_colab/test/semeval2015.data.xml  \n",
            "  inflating: training_on_colab/test/semeval2015.gold.key.txt  \n",
            "  inflating: training_on_colab/test/senseval2.data.xml  \n",
            "  inflating: training_on_colab/test/senseval2.gold.key.txt  \n",
            "  inflating: training_on_colab/test/semeval2013.gold.lexnames.txt  \n",
            "  inflating: training_on_colab/test/senseval3.data.xml  \n",
            "  inflating: training_on_colab/test/semeval2007.gold.domains.txt  \n",
            "  inflating: training_on_colab/test/semeval2015.gold.babelnet.txt  \n",
            "  inflating: training_on_colab/test/semeval2015.gold.domains.txt  \n"
          ],
          "name": "stdout"
        }
      ]
    },
    {
      "cell_type": "code",
      "metadata": {
        "id": "Muq7w_O2skWq",
        "colab_type": "code",
        "outputId": "a648d28f-bc1c-4221-fa9f-3098096210dc",
        "colab": {
          "base_uri": "https://localhost:8080/",
          "height": 1000
        }
      },
      "source": [
        "!pip install tensorflow-gpu==1.12.0\n",
        "!wget https://developer.nvidia.com/compute/cuda/9.0/Prod/local_installers/cuda-repo-ubuntu1604-9-0-local_9.0.176-1_amd64-deb\n",
        "!dpkg -i cuda-repo-ubuntu1604-9-0-local_9.0.176-1_amd64-deb\n",
        "!apt-key add /var/cuda-repo-9-0-local/7fa2af80.pub\n",
        "!apt-get update\n",
        "!apt-get install cuda=9.0.176-1"
      ],
      "execution_count": 0,
      "outputs": [
        {
          "output_type": "stream",
          "text": [
            "Collecting tensorflow-gpu==1.12.0\n",
            "\u001b[?25l  Downloading https://files.pythonhosted.org/packages/55/7e/bec4d62e9dc95e828922c6cec38acd9461af8abe749f7c9def25ec4b2fdb/tensorflow_gpu-1.12.0-cp36-cp36m-manylinux1_x86_64.whl (281.7MB)\n",
            "\u001b[K     |████████████████████████████████| 281.7MB 90kB/s \n",
            "\u001b[?25hRequirement already satisfied: astor>=0.6.0 in /usr/local/lib/python3.6/dist-packages (from tensorflow-gpu==1.12.0) (0.8.0)\n",
            "Requirement already satisfied: protobuf>=3.6.1 in /usr/local/lib/python3.6/dist-packages (from tensorflow-gpu==1.12.0) (3.7.1)\n",
            "Requirement already satisfied: termcolor>=1.1.0 in /usr/local/lib/python3.6/dist-packages (from tensorflow-gpu==1.12.0) (1.1.0)\n",
            "Requirement already satisfied: six>=1.10.0 in /usr/local/lib/python3.6/dist-packages (from tensorflow-gpu==1.12.0) (1.12.0)\n",
            "Requirement already satisfied: absl-py>=0.1.6 in /usr/local/lib/python3.6/dist-packages (from tensorflow-gpu==1.12.0) (0.8.0)\n",
            "Requirement already satisfied: gast>=0.2.0 in /usr/local/lib/python3.6/dist-packages (from tensorflow-gpu==1.12.0) (0.2.2)\n",
            "Requirement already satisfied: grpcio>=1.8.6 in /usr/local/lib/python3.6/dist-packages (from tensorflow-gpu==1.12.0) (1.15.0)\n",
            "Requirement already satisfied: numpy>=1.13.3 in /usr/local/lib/python3.6/dist-packages (from tensorflow-gpu==1.12.0) (1.16.5)\n",
            "Requirement already satisfied: keras-applications>=1.0.6 in /usr/local/lib/python3.6/dist-packages (from tensorflow-gpu==1.12.0) (1.0.8)\n",
            "Requirement already satisfied: keras-preprocessing>=1.0.5 in /usr/local/lib/python3.6/dist-packages (from tensorflow-gpu==1.12.0) (1.1.0)\n",
            "Requirement already satisfied: wheel>=0.26 in /usr/local/lib/python3.6/dist-packages (from tensorflow-gpu==1.12.0) (0.33.6)\n",
            "Collecting tensorboard<1.13.0,>=1.12.0 (from tensorflow-gpu==1.12.0)\n",
            "\u001b[?25l  Downloading https://files.pythonhosted.org/packages/07/53/8d32ce9471c18f8d99028b7cef2e5b39ea8765bd7ef250ca05b490880971/tensorboard-1.12.2-py3-none-any.whl (3.0MB)\n",
            "\u001b[K     |████████████████████████████████| 3.1MB 42.5MB/s \n",
            "\u001b[?25hRequirement already satisfied: setuptools in /usr/local/lib/python3.6/dist-packages (from protobuf>=3.6.1->tensorflow-gpu==1.12.0) (41.2.0)\n",
            "Requirement already satisfied: h5py in /usr/local/lib/python3.6/dist-packages (from keras-applications>=1.0.6->tensorflow-gpu==1.12.0) (2.8.0)\n",
            "Requirement already satisfied: markdown>=2.6.8 in /usr/local/lib/python3.6/dist-packages (from tensorboard<1.13.0,>=1.12.0->tensorflow-gpu==1.12.0) (3.1.1)\n",
            "Requirement already satisfied: werkzeug>=0.11.10 in /usr/local/lib/python3.6/dist-packages (from tensorboard<1.13.0,>=1.12.0->tensorflow-gpu==1.12.0) (0.15.6)\n",
            "\u001b[31mERROR: tensorflow 1.14.0 has requirement tensorboard<1.15.0,>=1.14.0, but you'll have tensorboard 1.12.2 which is incompatible.\u001b[0m\n",
            "Installing collected packages: tensorboard, tensorflow-gpu\n",
            "  Found existing installation: tensorboard 1.14.0\n",
            "    Uninstalling tensorboard-1.14.0:\n",
            "      Successfully uninstalled tensorboard-1.14.0\n",
            "Successfully installed tensorboard-1.12.2 tensorflow-gpu-1.12.0\n",
            "--2019-09-11 07:17:35--  https://developer.nvidia.com/compute/cuda/9.0/Prod/local_installers/cuda-repo-ubuntu1604-9-0-local_9.0.176-1_amd64-deb\n",
            "Resolving developer.nvidia.com (developer.nvidia.com)... 192.229.182.215\n",
            "Connecting to developer.nvidia.com (developer.nvidia.com)|192.229.182.215|:443... connected.\n",
            "HTTP request sent, awaiting response... 302 Found\n",
            "Location: https://developer.download.nvidia.com/compute/cuda/9.0/secure/Prod/local_installers/cuda-repo-ubuntu1604-9-0-local_9.0.176-1_amd64.deb?o3r72h3NCfqnywxdPyiVFstuQH7KZY10uyPp5iC7_m8-3HuIUl4r1GdaljdIszNCCdvVm6e9zrgz70VpXcpIq353ntj9Fa3WaJmvoDAcndovyW6paa_0dT3wY7nrQZTQYEucnuh2U9MMlv767Y8-UbwhDzahT42R7Hv82aJ55PEd_jnC4mCnzOFI2u3Flc1DuZQHE49zvwaqGucDf7ts [following]\n",
            "--2019-09-11 07:17:36--  https://developer.download.nvidia.com/compute/cuda/9.0/secure/Prod/local_installers/cuda-repo-ubuntu1604-9-0-local_9.0.176-1_amd64.deb?o3r72h3NCfqnywxdPyiVFstuQH7KZY10uyPp5iC7_m8-3HuIUl4r1GdaljdIszNCCdvVm6e9zrgz70VpXcpIq353ntj9Fa3WaJmvoDAcndovyW6paa_0dT3wY7nrQZTQYEucnuh2U9MMlv767Y8-UbwhDzahT42R7Hv82aJ55PEd_jnC4mCnzOFI2u3Flc1DuZQHE49zvwaqGucDf7ts\n",
            "Resolving developer.download.nvidia.com (developer.download.nvidia.com)... 192.229.221.58, 2606:2800:233:ef6:15dd:1ece:1d50:1e1\n",
            "Connecting to developer.download.nvidia.com (developer.download.nvidia.com)|192.229.221.58|:443... connected.\n",
            "HTTP request sent, awaiting response... 200 OK\n",
            "Length: 1212738714 (1.1G) [application/x-deb]\n",
            "Saving to: ‘cuda-repo-ubuntu1604-9-0-local_9.0.176-1_amd64-deb’\n",
            "\n",
            "cuda-repo-ubuntu160 100%[===================>]   1.13G   117MB/s    in 8.1s    \n",
            "\n",
            "2019-09-11 07:17:44 (142 MB/s) - ‘cuda-repo-ubuntu1604-9-0-local_9.0.176-1_amd64-deb’ saved [1212738714/1212738714]\n",
            "\n",
            "Selecting previously unselected package cuda-repo-ubuntu1604-9-0-local.\n",
            "(Reading database ... 131183 files and directories currently installed.)\n",
            "Preparing to unpack cuda-repo-ubuntu1604-9-0-local_9.0.176-1_amd64-deb ...\n",
            "Unpacking cuda-repo-ubuntu1604-9-0-local (9.0.176-1) ...\n",
            "Setting up cuda-repo-ubuntu1604-9-0-local (9.0.176-1) ...\n",
            "OK\n",
            "Get:1 file:/var/cuda-repo-9-0-local  InRelease\n",
            "Ign:1 file:/var/cuda-repo-9-0-local  InRelease\n",
            "Get:2 file:/var/cuda-repo-9-0-local  Release [574 B]\n",
            "Get:2 file:/var/cuda-repo-9-0-local  Release [574 B]\n",
            "Get:3 file:/var/cuda-repo-9-0-local  Release.gpg [819 B]\n",
            "Get:3 file:/var/cuda-repo-9-0-local  Release.gpg [819 B]\n",
            "Hit:4 http://archive.ubuntu.com/ubuntu bionic InRelease\n",
            "Get:5 http://ppa.launchpad.net/graphics-drivers/ppa/ubuntu bionic InRelease [21.3 kB]\n",
            "Get:6 http://archive.ubuntu.com/ubuntu bionic-updates InRelease [88.7 kB]\n",
            "Get:7 http://ppa.launchpad.net/marutter/c2d4u3.5/ubuntu bionic InRelease [15.4 kB]\n",
            "Get:8 http://archive.ubuntu.com/ubuntu bionic-backports InRelease [74.6 kB]\n",
            "Get:9 https://cloud.r-project.org/bin/linux/ubuntu bionic-cran35/ InRelease [3,626 B]\n",
            "Get:10 http://security.ubuntu.com/ubuntu bionic-security InRelease [88.7 kB]\n",
            "Ign:11 https://developer.download.nvidia.com/compute/cuda/repos/ubuntu1804/x86_64  InRelease\n",
            "Get:12 file:/var/cuda-repo-9-0-local  Packages [15.4 kB]\n",
            "Ign:13 https://developer.download.nvidia.com/compute/machine-learning/repos/ubuntu1804/x86_64  InRelease\n",
            "Get:14 https://developer.download.nvidia.com/compute/cuda/repos/ubuntu1804/x86_64  Release [564 B]\n",
            "Hit:15 https://developer.download.nvidia.com/compute/machine-learning/repos/ubuntu1804/x86_64  Release\n",
            "Get:16 https://developer.download.nvidia.com/compute/cuda/repos/ubuntu1804/x86_64  Release.gpg [819 B]\n",
            "Get:17 http://ppa.launchpad.net/graphics-drivers/ppa/ubuntu bionic/main amd64 Packages [31.5 kB]\n",
            "Get:18 http://ppa.launchpad.net/marutter/c2d4u3.5/ubuntu bionic/main Sources [1,683 kB]\n",
            "Get:19 http://ppa.launchpad.net/marutter/c2d4u3.5/ubuntu bionic/main amd64 Packages [809 kB]\n",
            "Get:20 http://archive.ubuntu.com/ubuntu bionic-updates/multiverse amd64 Packages [7,998 B]\n",
            "Get:21 http://archive.ubuntu.com/ubuntu bionic-updates/restricted amd64 Packages [19.0 kB]\n",
            "Get:22 http://archive.ubuntu.com/ubuntu bionic-updates/universe amd64 Packages [1,284 kB]\n",
            "Get:23 http://archive.ubuntu.com/ubuntu bionic-updates/main amd64 Packages [946 kB]\n",
            "Get:24 https://cloud.r-project.org/bin/linux/ubuntu bionic-cran35/ Packages [70.5 kB]\n",
            "Get:26 https://developer.download.nvidia.com/compute/cuda/repos/ubuntu1804/x86_64  Packages [113 kB]\n",
            "Get:27 http://security.ubuntu.com/ubuntu bionic-security/restricted amd64 Packages [8,385 B]\n",
            "Get:28 http://security.ubuntu.com/ubuntu bionic-security/main amd64 Packages [646 kB]\n",
            "Get:29 http://security.ubuntu.com/ubuntu bionic-security/universe amd64 Packages [766 kB]\n",
            "Get:30 http://security.ubuntu.com/ubuntu bionic-security/multiverse amd64 Packages [4,952 B]\n",
            "Fetched 6,682 kB in 4s (1,752 kB/s)\n",
            "Reading package lists... Done\n",
            "Reading package lists... Done\n",
            "Building dependency tree       \n",
            "Reading state information... Done\n",
            "The following additional packages will be installed:\n",
            "  cuda-9-0 cuda-command-line-tools-9-0 cuda-core-9-0 cuda-cublas-9-0\n",
            "  cuda-cublas-dev-9-0 cuda-cudart-9-0 cuda-cudart-dev-9-0 cuda-cufft-9-0\n",
            "  cuda-cufft-dev-9-0 cuda-curand-9-0 cuda-curand-dev-9-0 cuda-cusolver-9-0\n",
            "  cuda-cusolver-dev-9-0 cuda-cusparse-9-0 cuda-cusparse-dev-9-0\n",
            "  cuda-demo-suite-9-0 cuda-documentation-9-0 cuda-driver-dev-9-0\n",
            "  cuda-libraries-9-0 cuda-libraries-dev-9-0 cuda-license-9-0\n",
            "  cuda-misc-headers-9-0 cuda-npp-9-0 cuda-npp-dev-9-0 cuda-nvgraph-9-0\n",
            "  cuda-nvgraph-dev-9-0 cuda-nvml-dev-9-0 cuda-nvrtc-9-0 cuda-nvrtc-dev-9-0\n",
            "  cuda-runtime-9-0 cuda-samples-9-0 cuda-toolkit-9-0 cuda-visual-tools-9-0\n",
            "The following NEW packages will be installed:\n",
            "  cuda cuda-9-0 cuda-command-line-tools-9-0 cuda-core-9-0 cuda-cublas-9-0\n",
            "  cuda-cublas-dev-9-0 cuda-cudart-9-0 cuda-cudart-dev-9-0 cuda-cufft-9-0\n",
            "  cuda-cufft-dev-9-0 cuda-curand-9-0 cuda-curand-dev-9-0 cuda-cusolver-9-0\n",
            "  cuda-cusolver-dev-9-0 cuda-cusparse-9-0 cuda-cusparse-dev-9-0\n",
            "  cuda-demo-suite-9-0 cuda-documentation-9-0 cuda-driver-dev-9-0\n",
            "  cuda-libraries-9-0 cuda-libraries-dev-9-0 cuda-license-9-0\n",
            "  cuda-misc-headers-9-0 cuda-npp-9-0 cuda-npp-dev-9-0 cuda-nvgraph-9-0\n",
            "  cuda-nvgraph-dev-9-0 cuda-nvml-dev-9-0 cuda-nvrtc-9-0 cuda-nvrtc-dev-9-0\n",
            "  cuda-runtime-9-0 cuda-samples-9-0 cuda-toolkit-9-0 cuda-visual-tools-9-0\n",
            "0 upgraded, 34 newly installed, 0 to remove and 66 not upgraded.\n",
            "Need to get 0 B/1,097 MB of archives.\n",
            "After this operation, 2,315 MB of additional disk space will be used.\n",
            "Get:1 file:/var/cuda-repo-9-0-local  cuda-license-9-0 9.0.176-1 [22.0 kB]\n",
            "Get:2 file:/var/cuda-repo-9-0-local  cuda-misc-headers-9-0 9.0.176-1 [684 kB]\n",
            "Get:3 file:/var/cuda-repo-9-0-local  cuda-core-9-0 9.0.176-1 [16.9 MB]\n",
            "Get:4 file:/var/cuda-repo-9-0-local  cuda-cudart-9-0 9.0.176-1 [106 kB]\n",
            "Get:5 file:/var/cuda-repo-9-0-local  cuda-driver-dev-9-0 9.0.176-1 [10.9 kB]\n",
            "Get:6 file:/var/cuda-repo-9-0-local  cuda-cudart-dev-9-0 9.0.176-1 [767 kB]\n",
            "Get:7 file:/var/cuda-repo-9-0-local  cuda-command-line-tools-9-0 9.0.176-1 [25.4 MB]\n",
            "Get:8 file:/var/cuda-repo-9-0-local  cuda-nvrtc-9-0 9.0.176-1 [6,348 kB]\n",
            "Get:9 file:/var/cuda-repo-9-0-local  cuda-nvrtc-dev-9-0 9.0.176-1 [9,334 B]\n",
            "Get:10 file:/var/cuda-repo-9-0-local  cuda-cusolver-9-0 9.0.176-1 [26.2 MB]\n",
            "Get:11 file:/var/cuda-repo-9-0-local  cuda-cusolver-dev-9-0 9.0.176-1 [5,317 kB]\n",
            "Get:12 file:/var/cuda-repo-9-0-local  cuda-cublas-9-0 9.0.176-1 [25.0 MB]\n",
            "Get:13 file:/var/cuda-repo-9-0-local  cuda-cublas-dev-9-0 9.0.176-1 [49.4 MB]\n",
            "Get:14 file:/var/cuda-repo-9-0-local  cuda-cufft-9-0 9.0.176-1 [84.1 MB]\n",
            "Get:15 file:/var/cuda-repo-9-0-local  cuda-cufft-dev-9-0 9.0.176-1 [73.7 MB]\n",
            "Get:16 file:/var/cuda-repo-9-0-local  cuda-curand-9-0 9.0.176-1 [38.8 MB]\n",
            "Get:17 file:/var/cuda-repo-9-0-local  cuda-curand-dev-9-0 9.0.176-1 [57.9 MB]\n",
            "Get:18 file:/var/cuda-repo-9-0-local  cuda-cusparse-9-0 9.0.176-1 [25.2 MB]\n",
            "Get:19 file:/var/cuda-repo-9-0-local  cuda-cusparse-dev-9-0 9.0.176-1 [25.3 MB]\n",
            "Get:20 file:/var/cuda-repo-9-0-local  cuda-npp-9-0 9.0.176-1 [46.6 MB]\n",
            "Get:21 file:/var/cuda-repo-9-0-local  cuda-npp-dev-9-0 9.0.176-1 [46.6 MB]\n",
            "Get:22 file:/var/cuda-repo-9-0-local  cuda-nvgraph-9-0 9.0.176-1 [6,081 kB]\n",
            "Get:23 file:/var/cuda-repo-9-0-local  cuda-nvgraph-dev-9-0 9.0.176-1 [5,658 kB]\n",
            "Get:24 file:/var/cuda-repo-9-0-local  cuda-samples-9-0 9.0.176-1 [75.9 MB]\n",
            "Get:25 file:/var/cuda-repo-9-0-local  cuda-documentation-9-0 9.0.176-1 [53.1 MB]\n",
            "Get:26 file:/var/cuda-repo-9-0-local  cuda-libraries-dev-9-0 9.0.176-1 [2,596 B]\n",
            "Get:27 file:/var/cuda-repo-9-0-local  cuda-nvml-dev-9-0 9.0.176-1 [47.6 kB]\n",
            "Get:28 file:/var/cuda-repo-9-0-local  cuda-visual-tools-9-0 9.0.176-1 [398 MB]\n",
            "Get:29 file:/var/cuda-repo-9-0-local  cuda-toolkit-9-0 9.0.176-1 [2,836 B]\n",
            "Get:30 file:/var/cuda-repo-9-0-local  cuda-libraries-9-0 9.0.176-1 [2,566 B]\n",
            "Get:31 file:/var/cuda-repo-9-0-local  cuda-runtime-9-0 9.0.176-1 [2,526 B]\n",
            "Get:32 file:/var/cuda-repo-9-0-local  cuda-demo-suite-9-0 9.0.176-1 [3,880 kB]\n",
            "Get:33 file:/var/cuda-repo-9-0-local  cuda-9-0 9.0.176-1 [2,552 B]\n",
            "Get:34 file:/var/cuda-repo-9-0-local  cuda 9.0.176-1 [2,504 B]\n",
            "Extracting templates from packages: 100%\n",
            "Selecting previously unselected package cuda-license-9-0.\n",
            "(Reading database ... 131242 files and directories currently installed.)\n",
            "Preparing to unpack .../00-cuda-license-9-0_9.0.176-1_amd64.deb ...\n",
            "Unpacking cuda-license-9-0 (9.0.176-1) ...\n",
            "Selecting previously unselected package cuda-misc-headers-9-0.\n",
            "Preparing to unpack .../01-cuda-misc-headers-9-0_9.0.176-1_amd64.deb ...\n",
            "Unpacking cuda-misc-headers-9-0 (9.0.176-1) ...\n",
            "Selecting previously unselected package cuda-core-9-0.\n",
            "Preparing to unpack .../02-cuda-core-9-0_9.0.176-1_amd64.deb ...\n",
            "Unpacking cuda-core-9-0 (9.0.176-1) ...\n",
            "Selecting previously unselected package cuda-cudart-9-0.\n",
            "Preparing to unpack .../03-cuda-cudart-9-0_9.0.176-1_amd64.deb ...\n",
            "Unpacking cuda-cudart-9-0 (9.0.176-1) ...\n",
            "Selecting previously unselected package cuda-driver-dev-9-0.\n",
            "Preparing to unpack .../04-cuda-driver-dev-9-0_9.0.176-1_amd64.deb ...\n",
            "Unpacking cuda-driver-dev-9-0 (9.0.176-1) ...\n",
            "Selecting previously unselected package cuda-cudart-dev-9-0.\n",
            "Preparing to unpack .../05-cuda-cudart-dev-9-0_9.0.176-1_amd64.deb ...\n",
            "Unpacking cuda-cudart-dev-9-0 (9.0.176-1) ...\n",
            "Selecting previously unselected package cuda-command-line-tools-9-0.\n",
            "Preparing to unpack .../06-cuda-command-line-tools-9-0_9.0.176-1_amd64.deb ...\n",
            "Unpacking cuda-command-line-tools-9-0 (9.0.176-1) ...\n",
            "Selecting previously unselected package cuda-nvrtc-9-0.\n",
            "Preparing to unpack .../07-cuda-nvrtc-9-0_9.0.176-1_amd64.deb ...\n",
            "Unpacking cuda-nvrtc-9-0 (9.0.176-1) ...\n",
            "Selecting previously unselected package cuda-nvrtc-dev-9-0.\n",
            "Preparing to unpack .../08-cuda-nvrtc-dev-9-0_9.0.176-1_amd64.deb ...\n",
            "Unpacking cuda-nvrtc-dev-9-0 (9.0.176-1) ...\n",
            "Selecting previously unselected package cuda-cusolver-9-0.\n",
            "Preparing to unpack .../09-cuda-cusolver-9-0_9.0.176-1_amd64.deb ...\n",
            "Unpacking cuda-cusolver-9-0 (9.0.176-1) ...\n",
            "Selecting previously unselected package cuda-cusolver-dev-9-0.\n",
            "Preparing to unpack .../10-cuda-cusolver-dev-9-0_9.0.176-1_amd64.deb ...\n",
            "Unpacking cuda-cusolver-dev-9-0 (9.0.176-1) ...\n",
            "Selecting previously unselected package cuda-cublas-9-0.\n",
            "Preparing to unpack .../11-cuda-cublas-9-0_9.0.176-1_amd64.deb ...\n",
            "Unpacking cuda-cublas-9-0 (9.0.176-1) ...\n",
            "Selecting previously unselected package cuda-cublas-dev-9-0.\n",
            "Preparing to unpack .../12-cuda-cublas-dev-9-0_9.0.176-1_amd64.deb ...\n",
            "Unpacking cuda-cublas-dev-9-0 (9.0.176-1) ...\n",
            "Selecting previously unselected package cuda-cufft-9-0.\n",
            "Preparing to unpack .../13-cuda-cufft-9-0_9.0.176-1_amd64.deb ...\n",
            "Unpacking cuda-cufft-9-0 (9.0.176-1) ...\n",
            "Selecting previously unselected package cuda-cufft-dev-9-0.\n",
            "Preparing to unpack .../14-cuda-cufft-dev-9-0_9.0.176-1_amd64.deb ...\n",
            "Unpacking cuda-cufft-dev-9-0 (9.0.176-1) ...\n",
            "Selecting previously unselected package cuda-curand-9-0.\n",
            "Preparing to unpack .../15-cuda-curand-9-0_9.0.176-1_amd64.deb ...\n",
            "Unpacking cuda-curand-9-0 (9.0.176-1) ...\n",
            "Selecting previously unselected package cuda-curand-dev-9-0.\n",
            "Preparing to unpack .../16-cuda-curand-dev-9-0_9.0.176-1_amd64.deb ...\n",
            "Unpacking cuda-curand-dev-9-0 (9.0.176-1) ...\n",
            "Selecting previously unselected package cuda-cusparse-9-0.\n",
            "Preparing to unpack .../17-cuda-cusparse-9-0_9.0.176-1_amd64.deb ...\n",
            "Unpacking cuda-cusparse-9-0 (9.0.176-1) ...\n",
            "Selecting previously unselected package cuda-cusparse-dev-9-0.\n",
            "Preparing to unpack .../18-cuda-cusparse-dev-9-0_9.0.176-1_amd64.deb ...\n",
            "Unpacking cuda-cusparse-dev-9-0 (9.0.176-1) ...\n",
            "Selecting previously unselected package cuda-npp-9-0.\n",
            "Preparing to unpack .../19-cuda-npp-9-0_9.0.176-1_amd64.deb ...\n",
            "Unpacking cuda-npp-9-0 (9.0.176-1) ...\n",
            "Selecting previously unselected package cuda-npp-dev-9-0.\n",
            "Preparing to unpack .../20-cuda-npp-dev-9-0_9.0.176-1_amd64.deb ...\n",
            "Unpacking cuda-npp-dev-9-0 (9.0.176-1) ...\n",
            "Selecting previously unselected package cuda-nvgraph-9-0.\n",
            "Preparing to unpack .../21-cuda-nvgraph-9-0_9.0.176-1_amd64.deb ...\n",
            "Unpacking cuda-nvgraph-9-0 (9.0.176-1) ...\n",
            "Selecting previously unselected package cuda-nvgraph-dev-9-0.\n",
            "Preparing to unpack .../22-cuda-nvgraph-dev-9-0_9.0.176-1_amd64.deb ...\n",
            "Unpacking cuda-nvgraph-dev-9-0 (9.0.176-1) ...\n",
            "Selecting previously unselected package cuda-samples-9-0.\n",
            "Preparing to unpack .../23-cuda-samples-9-0_9.0.176-1_amd64.deb ...\n",
            "Unpacking cuda-samples-9-0 (9.0.176-1) ...\n",
            "Selecting previously unselected package cuda-documentation-9-0.\n",
            "Preparing to unpack .../24-cuda-documentation-9-0_9.0.176-1_amd64.deb ...\n",
            "Unpacking cuda-documentation-9-0 (9.0.176-1) ...\n",
            "Selecting previously unselected package cuda-libraries-dev-9-0.\n",
            "Preparing to unpack .../25-cuda-libraries-dev-9-0_9.0.176-1_amd64.deb ...\n",
            "Unpacking cuda-libraries-dev-9-0 (9.0.176-1) ...\n",
            "Selecting previously unselected package cuda-nvml-dev-9-0.\n",
            "Preparing to unpack .../26-cuda-nvml-dev-9-0_9.0.176-1_amd64.deb ...\n",
            "Unpacking cuda-nvml-dev-9-0 (9.0.176-1) ...\n",
            "Selecting previously unselected package cuda-visual-tools-9-0.\n",
            "Preparing to unpack .../27-cuda-visual-tools-9-0_9.0.176-1_amd64.deb ...\n",
            "Unpacking cuda-visual-tools-9-0 (9.0.176-1) ...\n",
            "Selecting previously unselected package cuda-toolkit-9-0.\n",
            "Preparing to unpack .../28-cuda-toolkit-9-0_9.0.176-1_amd64.deb ...\n",
            "Unpacking cuda-toolkit-9-0 (9.0.176-1) ...\n",
            "Selecting previously unselected package cuda-libraries-9-0.\n",
            "Preparing to unpack .../29-cuda-libraries-9-0_9.0.176-1_amd64.deb ...\n",
            "Unpacking cuda-libraries-9-0 (9.0.176-1) ...\n",
            "Selecting previously unselected package cuda-runtime-9-0.\n",
            "Preparing to unpack .../30-cuda-runtime-9-0_9.0.176-1_amd64.deb ...\n",
            "Unpacking cuda-runtime-9-0 (9.0.176-1) ...\n",
            "Selecting previously unselected package cuda-demo-suite-9-0.\n",
            "Preparing to unpack .../31-cuda-demo-suite-9-0_9.0.176-1_amd64.deb ...\n",
            "Unpacking cuda-demo-suite-9-0 (9.0.176-1) ...\n",
            "Selecting previously unselected package cuda-9-0.\n",
            "Preparing to unpack .../32-cuda-9-0_9.0.176-1_amd64.deb ...\n",
            "Unpacking cuda-9-0 (9.0.176-1) ...\n",
            "Selecting previously unselected package cuda.\n",
            "Preparing to unpack .../33-cuda_9.0.176-1_amd64.deb ...\n",
            "Unpacking cuda (9.0.176-1) ...\n",
            "Setting up cuda-license-9-0 (9.0.176-1) ...\n",
            "*** LICENSE AGREEMENT ***\n",
            "By using this software you agree to fully comply with the terms and \n",
            "conditions of the EULA (End User License Agreement). The EULA is located\n",
            "at /usr/local/cuda-9.0/doc/EULA.txt. The EULA can also be found at\n",
            "http://docs.nvidia.com/cuda/eula/index.html. If you do not agree to the\n",
            "terms and conditions of the EULA, do not use the software.\n",
            "\n",
            "Setting up cuda-cusparse-9-0 (9.0.176-1) ...\n",
            "Setting up cuda-cudart-9-0 (9.0.176-1) ...\n",
            "Setting up cuda-nvrtc-9-0 (9.0.176-1) ...\n",
            "Setting up cuda-cusparse-dev-9-0 (9.0.176-1) ...\n",
            "Setting up cuda-cufft-9-0 (9.0.176-1) ...\n",
            "Setting up cuda-cusolver-9-0 (9.0.176-1) ...\n",
            "Setting up cuda-nvml-dev-9-0 (9.0.176-1) ...\n",
            "Setting up cuda-npp-9-0 (9.0.176-1) ...\n",
            "Setting up cuda-cusolver-dev-9-0 (9.0.176-1) ...\n",
            "Setting up cuda-misc-headers-9-0 (9.0.176-1) ...\n",
            "Setting up cuda-cublas-9-0 (9.0.176-1) ...\n",
            "Setting up cuda-nvrtc-dev-9-0 (9.0.176-1) ...\n",
            "Setting up cuda-driver-dev-9-0 (9.0.176-1) ...\n",
            "Setting up cuda-curand-9-0 (9.0.176-1) ...\n",
            "Setting up cuda-nvgraph-9-0 (9.0.176-1) ...\n",
            "Setting up cuda-core-9-0 (9.0.176-1) ...\n",
            "Setting up cuda-libraries-9-0 (9.0.176-1) ...\n",
            "Setting up cuda-runtime-9-0 (9.0.176-1) ...\n",
            "Setting up cuda-cudart-dev-9-0 (9.0.176-1) ...\n",
            "Setting up cuda-cufft-dev-9-0 (9.0.176-1) ...\n",
            "Setting up cuda-npp-dev-9-0 (9.0.176-1) ...\n",
            "Setting up cuda-curand-dev-9-0 (9.0.176-1) ...\n",
            "Setting up cuda-cublas-dev-9-0 (9.0.176-1) ...\n",
            "Setting up cuda-nvgraph-dev-9-0 (9.0.176-1) ...\n",
            "Setting up cuda-command-line-tools-9-0 (9.0.176-1) ...\n",
            "Setting up cuda-demo-suite-9-0 (9.0.176-1) ...\n",
            "Setting up cuda-visual-tools-9-0 (9.0.176-1) ...\n",
            "Setting up cuda-samples-9-0 (9.0.176-1) ...\n",
            "Setting up cuda-libraries-dev-9-0 (9.0.176-1) ...\n",
            "Setting up cuda-documentation-9-0 (9.0.176-1) ...\n",
            "Setting up cuda-toolkit-9-0 (9.0.176-1) ...\n",
            "Setting up cuda-9-0 (9.0.176-1) ...\n",
            "Setting up cuda (9.0.176-1) ...\n",
            "Processing triggers for libc-bin (2.27-3ubuntu1) ...\n"
          ],
          "name": "stdout"
        }
      ]
    },
    {
      "cell_type": "code",
      "metadata": {
        "id": "F2U32VYMrBRU",
        "colab_type": "code",
        "outputId": "1c743b29-730e-410f-cc86-448257e83622",
        "colab": {
          "base_uri": "https://localhost:8080/",
          "height": 34
        }
      },
      "source": [
        "import model as md\n",
        "import preprocessing as pre\n",
        "import numpy as np\n",
        "from tqdm import tqdm\n",
        "import parsing as par\n",
        "import global_paths as gp\n",
        "import tensorflow as tf\n",
        "\n",
        "import preprocessing as pre\n",
        "print(tf.__version__)"
      ],
      "execution_count": 0,
      "outputs": [
        {
          "output_type": "stream",
          "text": [
            "1.12.0\n"
          ],
          "name": "stdout"
        }
      ]
    },
    {
      "cell_type": "code",
      "metadata": {
        "id": "uKv2VdyJncYS",
        "colab_type": "code",
        "outputId": "9849a021-4102-465f-c2ad-f6ce4683af21",
        "colab": {
          "base_uri": "https://localhost:8080/",
          "height": 34
        }
      },
      "source": [
        "#USE TO SOLVE GPU OOM PROBLEM\n",
        "config = tf.ConfigProto()\n",
        "config.gpu_options.allow_growth = True\n",
        "tf.Session(config = config)"
      ],
      "execution_count": 0,
      "outputs": [
        {
          "output_type": "execute_result",
          "data": {
            "text/plain": [
              "<tensorflow.python.client.session.Session at 0x7fe66cce4128>"
            ]
          },
          "metadata": {
            "tags": []
          },
          "execution_count": 2
        }
      ]
    },
    {
      "cell_type": "code",
      "metadata": {
        "id": "7tMJ6I3ksh8l",
        "colab_type": "code",
        "outputId": "fa508402-8166-4208-a6d1-ac55199fc00f",
        "colab": {
          "base_uri": "https://localhost:8080/",
          "height": 204
        }
      },
      "source": [
        "#READ THE TRAIN, DEV DATA AND TEST DATA\n",
        "colab_folder = \"training_on_colab/\"\n",
        "train_dir = \"train/\"\n",
        "dev_dir = \"dev/\"\n",
        "test_dir = \"test/\"\n",
        "train_x_sem = []\n",
        "train_x_tom = []\n",
        "\n",
        "\n",
        "#LOAD SEMCOR\n",
        "train_x_sem = pre.load_data_from_file(colab_folder+train_dir+\"semcor.input.txt\")\n",
        "label_bn_y_sem = pre.load_data_from_file(colab_folder+train_dir+\"semcor.bn.labels.txt\")\n",
        "label_dom_y_sem = pre.load_data_from_file(colab_folder+train_dir+\"semcor.dom.labels.txt\")\n",
        "label_lex_y_sem = pre.load_data_from_file(colab_folder+train_dir+\"semcor.lex.labels.txt\")\n",
        "\n",
        "\n",
        "'''\n",
        "#LOAD TOM\n",
        "train_x_tom = pre.load_data_from_file(colab_folder+train_dir+\"tom.resize.input.txt\")\n",
        "label_bn_y_tom = pre.load_data_from_file(colab_folder+train_dir+\"tom.resize.bn.labels.txt\")\n",
        "label_dom_y_tom = pre.load_data_from_file(colab_folder+train_dir+\"tom.dom.labels.txt\")\n",
        "label_lex_y_tom = pre.load_data_from_file(colab_folder+train_dir+\"tom.lex.labels.txt\")\n",
        "'''\n",
        "\n",
        "#CONCATENATE DATASETS\n",
        "number_tom = 80000\n",
        "\n",
        "'''\n",
        "train_x = train_x_euro[:number_eurosense] #train_x_sem #+ + train_x_tom\n",
        "label_bn_y = label_bn_y_euro[:number_eurosense]#label_bn_y_sem #+  #+ label_bn_y_tom\n",
        "label_dom_y = label_dom_y_euro[:number_eurosense]#label_dom_y_sem #+  #+ label_dom_y_tom\n",
        "label_lex_y = label_lex_y_euro[:number_eurosense]#label_lex_y_sem #+  #+ label_lex_y_tom\n",
        "'''\n",
        "\n",
        "train_x = train_x_sem\n",
        "label_bn_y = label_bn_y_sem\n",
        "label_dom_y =  label_dom_y_sem\n",
        "label_lex_y = label_lex_y_sem\n",
        "\n",
        "\n",
        "#LOAD SEMEVAL2007 (DEV)\n",
        "dev_train_x = pre.load_data_from_file(colab_folder+dev_dir+\"semeval2007.input.txt\")\n",
        "dev_label_bn_y = pre.load_data_from_file(colab_folder+dev_dir+\"semeval2007.bn.labels.txt\")\n",
        "dev_label_dom_y = pre.load_data_from_file(colab_folder+dev_dir+\"semeval2007.dom.labels.txt\")\n",
        "dev_label_lex_y = pre.load_data_from_file(colab_folder+dev_dir+\"semeval2007.lex.labels.txt\")\n",
        "\n",
        "#IMPORT FILE TO BUILD VOCABS AND BABELNET TO WORDNET MAPPING\n",
        "b2w_map_path = colab_folder+\"babelnet2wordnet.tsv\"\n",
        "b2dom_map_path = colab_folder+\"babelnet2wndomains.tsv\"\n",
        "b2lex_map_path = colab_folder+\"babelnet2lexnames.tsv\"\n",
        "\n",
        "#CREATE W2B MAP\n",
        "b2w, w2b = par.create_maps_from_tsv(b2w_map_path)\n",
        "b2dom, dom2b = par.create_maps_from_tsv(b2dom_map_path)\n",
        "b2lex, lex2b = par.create_maps_from_tsv(b2lex_map_path)"
      ],
      "execution_count": 0,
      "outputs": [
        {
          "output_type": "stream",
          "text": [
            "37176it [00:00, 220469.43it/s]\n",
            "37176it [00:00, 124321.65it/s]\n",
            "37176it [00:00, 210837.27it/s]\n",
            "37176it [00:00, 104076.73it/s]\n",
            "135it [00:00, 110873.51it/s]\n",
            "135it [00:00, 88806.62it/s]\n",
            "135it [00:00, 86328.87it/s]\n",
            "135it [00:00, 105916.77it/s]\n",
            "117659it [00:00, 742050.35it/s]\n",
            "92601it [00:00, 781419.49it/s]\n",
            "117653it [00:00, 836250.83it/s]\n"
          ],
          "name": "stderr"
        }
      ]
    },
    {
      "cell_type": "code",
      "metadata": {
        "id": "BROWc0yICJfO",
        "colab_type": "code",
        "colab": {}
      },
      "source": [
        "def calculate_length_sentences(data):\n",
        "  freq = {}\n",
        "  for sentence in data:\n",
        "    if len(sentence) not in freq:\n",
        "      freq[len(sentence)] = 1\n",
        "    else:\n",
        "      freq[len(sentence)]+=1\n",
        "  return freq\n",
        "\n"
      ],
      "execution_count": 0,
      "outputs": []
    },
    {
      "cell_type": "code",
      "metadata": {
        "id": "2WNt_TcOP5wU",
        "colab_type": "code",
        "colab": {}
      },
      "source": [
        "\n",
        "'''\n",
        "At the end, i didn't use it\n",
        "'''\n",
        "#CLEAN THE DATA\n",
        "train_x = pre.clean_data(train_x)\n",
        "label_bn_y = pre.clean_data(label_bn_y)\n",
        "label_dom_y = pre.clean_data(label_dom_y)\n",
        "label_lex_y = pre.clean_data(label_lex_y)\n",
        "\n",
        "dev_train_x = pre.clean_data(dev_train_x)\n",
        "dev_label_bn_y = pre.clean_data(dev_label_bn_y)\n",
        "dev_label_dom_y = pre.clean_data(dev_label_dom_y)\n",
        "dev_label_lex_y = pre.clean_data(dev_label_lex_y)\n",
        "\n",
        "\n",
        "\n"
      ],
      "execution_count": 0,
      "outputs": []
    },
    {
      "cell_type": "code",
      "metadata": {
        "id": "1WaSlu9UNHjp",
        "colab_type": "code",
        "colab": {}
      },
      "source": [
        "#USED ONLY FOR ELMO EMBEDDINGS\n",
        "sentence_train_x = pre.make_sentences(train_x)\n",
        "sentence_dev_train_x = pre.make_sentences(dev_train_x)\n"
      ],
      "execution_count": 0,
      "outputs": []
    },
    {
      "cell_type": "code",
      "metadata": {
        "id": "4RCjkDuWuRy2",
        "colab_type": "code",
        "colab": {}
      },
      "source": [
        "#DEFINE VOCABS\n",
        "number_of_appearance_input = 5\n",
        "number_of_appearance_sense_bn = 5\n",
        "vocab_input_data = pre.create_input_vocab(train_x,number_of_appearance_input)\n",
        "vocab_bn_labels = pre.create_sense_bn_vocab(label_bn_y,number_of_appearance_sense_bn)\n",
        "vocab_dom_labels = pre.create_sense_inventory(b2dom)\n",
        "vocab_lex_labels = pre.create_sense_inventory(b2lex)\n",
        "\n",
        "output_bn_vocab, reverse_output_bn_vocab = pre.make_output_bn_vocab(vocab_input_data, vocab_bn_labels)\n",
        "output_dom_vocab, reverse_output_dom_vocab = pre.make_output_sense_vocab(vocab_dom_labels)\n",
        "output_lex_vocab, reverse_output_lex_vocab = pre.make_output_sense_vocab(vocab_lex_labels)"
      ],
      "execution_count": 0,
      "outputs": []
    },
    {
      "cell_type": "code",
      "metadata": {
        "id": "nxAVALEGQvtR",
        "colab_type": "code",
        "colab": {}
      },
      "source": [
        "#TOKENIZE TRAIN X IF NOT USED ELMO\n",
        "train_x = pre.tokenize_data(train_x,output_bn_vocab,mode='train')\n",
        "dev_train_x = pre.tokenize_data(dev_train_x,output_bn_vocab,mode='train')"
      ],
      "execution_count": 0,
      "outputs": []
    },
    {
      "cell_type": "code",
      "metadata": {
        "id": "0LxOXJXia2Md",
        "colab_type": "code",
        "colab": {}
      },
      "source": [
        "#TOKENIZE DATA\n",
        "\n",
        "label_bn_y = pre.tokenize_data(label_bn_y,output_bn_vocab,mode='train')\n",
        "label_dom_y = pre.tokenize_data(label_dom_y,output_dom_vocab,mode='train')\n",
        "label_lex_y = pre.tokenize_data(label_lex_y,output_lex_vocab,mode='train')\n",
        "\n",
        "\n",
        "dev_label_bn_y = pre.tokenize_data(dev_label_bn_y,output_bn_vocab,mode='train')\n",
        "dev_label_dom_y = pre.tokenize_data(dev_label_dom_y,output_dom_vocab,mode='train')\n",
        "dev_label_lex_y = pre.tokenize_data(dev_label_lex_y,output_lex_vocab,mode='train')"
      ],
      "execution_count": 0,
      "outputs": []
    },
    {
      "cell_type": "code",
      "metadata": {
        "id": "BQUVnWGMtSKK",
        "colab_type": "code",
        "colab": {}
      },
      "source": [
        "#DEFINE THE MODEL PARAMETERS\n",
        "\n",
        "'''\n",
        "Embedding size:  200 \n",
        "Hidden size:  256 \n",
        "Input Dropout:  0.4 \n",
        "LSTM Dropout:  0.15 \n",
        "Learning rate:  0.015\n",
        "'''\n",
        "EMBEDDING_SIZE = 300\n",
        "HIDDEN_SIZE = 256\n",
        "INPUT_DROPOUT = 0.4\n",
        "LSTM_DROPOUT = 0.4\n",
        "LEARNING_RATE = 0.0015\n",
        "OPTIMIZER = \"adam\"\n",
        "BATCH_SIZE = 64\n",
        "EPOCHS = 6\n",
        "STEPS_PER_EPOCH = (len(train_x) // BATCH_SIZE) \n",
        "VALIDATION_STEPS = (len(dev_train_x) // (BATCH_SIZE//8))\n",
        "INITIAL_EPOCH = 0"
      ],
      "execution_count": 0,
      "outputs": []
    },
    {
      "cell_type": "code",
      "metadata": {
        "id": "aFcRf77iLBV9",
        "colab_type": "code",
        "colab": {}
      },
      "source": [
        "#DEFINE VARIABLE OF THE MODEL\n",
        "PREDICT_2BLSTM = False\n",
        "PREDICT_ELMO = True\n",
        "PREDICT_ATTENTION = True"
      ],
      "execution_count": 0,
      "outputs": []
    },
    {
      "cell_type": "code",
      "metadata": {
        "id": "SGCcmtT9tOOs",
        "colab_type": "code",
        "outputId": "80855893-4d59-4d6d-9202-1dc09aa84c32",
        "colab": {
          "base_uri": "https://localhost:8080/",
          "height": 34
        }
      },
      "source": [
        "#CREATE MODEL\n",
        "if PREDICT_2BLSTM:\n",
        "  model = md.create_2_BLSTM_layers(len(vocab_input_data),len(output_bn_vocab),\n",
        "                                 len(output_dom_vocab),\n",
        "                                  len(output_lex_vocab),\n",
        "                                       EMBEDDING_SIZE,\n",
        "                                       HIDDEN_SIZE,\n",
        "                                       INPUT_DROPOUT,\n",
        "                                       LSTM_DROPOUT)\n",
        "else:\n",
        "  model = md.create_BLSTM(len(vocab_input_data),len(output_bn_vocab),\n",
        "                                 len(output_dom_vocab),\n",
        "                                  len(output_lex_vocab),\n",
        "                                       EMBEDDING_SIZE,\n",
        "                                       HIDDEN_SIZE,\n",
        "                                       INPUT_DROPOUT,\n",
        "                                       LSTM_DROPOUT,elmo=PREDICT_ELMO,attention=PREDICT_ATTENTION)\n"
      ],
      "execution_count": 0,
      "outputs": [
        {
          "output_type": "stream",
          "text": [
            "Creating 2 BLSTM multitask\n"
          ],
          "name": "stdout"
        }
      ]
    },
    {
      "cell_type": "code",
      "metadata": {
        "id": "cvEjfLTN4rrB",
        "colab_type": "code",
        "outputId": "f1b76eec-b0a3-402c-c5da-70aa65d60bfc",
        "colab": {
          "base_uri": "https://localhost:8080/",
          "height": 408
        }
      },
      "source": [
        "model.summary()"
      ],
      "execution_count": 0,
      "outputs": [
        {
          "output_type": "stream",
          "text": [
            "__________________________________________________________________________________________________\n",
            "Layer (type)                    Output Shape         Param #     Connected to                     \n",
            "==================================================================================================\n",
            "input_1 (InputLayer)            (None, None)         0                                            \n",
            "__________________________________________________________________________________________________\n",
            "embedding (Embedding)           (None, None, 300)    3402600     input_1[0][0]                    \n",
            "__________________________________________________________________________________________________\n",
            "Dropout (Dropout)               (None, None, 300)    0           embedding[0][0]                  \n",
            "__________________________________________________________________________________________________\n",
            "bidirectional (Bidirectional)   (None, None, 512)    1140736     Dropout[0][0]                    \n",
            "__________________________________________________________________________________________________\n",
            "bidirectional_1 (Bidirectional) (None, None, 512)    1574912     bidirectional[0][0]              \n",
            "__________________________________________________________________________________________________\n",
            "bn_output (Dense)               (None, None, 19541)  10024533    bidirectional_1[0][0]            \n",
            "__________________________________________________________________________________________________\n",
            "dom_output (Dense)              (None, None, 168)    86184       bidirectional_1[0][0]            \n",
            "__________________________________________________________________________________________________\n",
            "lex_output (Dense)              (None, None, 47)     24111       bidirectional_1[0][0]            \n",
            "==================================================================================================\n",
            "Total params: 16,253,076\n",
            "Trainable params: 16,253,076\n",
            "Non-trainable params: 0\n",
            "__________________________________________________________________________________________________\n"
          ],
          "name": "stdout"
        }
      ]
    },
    {
      "cell_type": "code",
      "metadata": {
        "id": "Pot4D7cy677_",
        "colab_type": "code",
        "colab": {}
      },
      "source": [
        "#compile model\n",
        "model = md.compile_keras_model(model,OPTIMIZER,LEARNING_RATE)"
      ],
      "execution_count": 0,
      "outputs": []
    },
    {
      "cell_type": "code",
      "metadata": {
        "id": "M-8wAiex9yJl",
        "colab_type": "code",
        "outputId": "b8ca5a04-c82e-4df3-939d-a4976c5b3bad",
        "colab": {
          "base_uri": "https://localhost:8080/",
          "height": 547
        }
      },
      "source": [
        "#TRAIN THE MODEL\n",
        "if PREDICT_ELMO:\n",
        "  stats = md.train_keras_model_elmo(model,sentence_train_x,label_bn_y,\n",
        "                                       label_dom_y, label_lex_y, \n",
        "                                       sentence_dev_train_x,dev_label_bn_y,\n",
        "                                       dev_label_dom_y, dev_label_lex_y,\n",
        "                                       BATCH_SIZE,\n",
        "                                       EPOCHS,\n",
        "                                       STEPS_PER_EPOCH,\n",
        "                                       VALIDATION_STEPS,\"elmo_weights\",pad_sequence=True)\n",
        "else:\n",
        "  stats = md.train_keras_model_multitask(model,train_x,label_bn_y,\n",
        "                                       label_dom_y, label_lex_y, \n",
        "                                       dev_train_x,dev_label_bn_y,\n",
        "                                       dev_label_dom_y, dev_label_lex_y,\n",
        "                                       BATCH_SIZE,\n",
        "                                       EPOCHS,\n",
        "                                       STEPS_PER_EPOCH,\n",
        "                                       VALIDATION_STEPS,INITIAL_EPOCH,\"weights\",pad_sequence=True)\n",
        "  \n",
        "\n"
      ],
      "execution_count": 0,
      "outputs": [
        {
          "output_type": "stream",
          "text": [
            "\n",
            "Starting training...\n"
          ],
          "name": "stdout"
        },
        {
          "output_type": "stream",
          "text": [
            "/usr/local/lib/python3.6/dist-packages/tensorflow/python/ops/gradients_impl.py:112: UserWarning: Converting sparse IndexedSlices to a dense Tensor of unknown shape. This may consume a large amount of memory.\n",
            "  \"Converting sparse IndexedSlices to a dense Tensor of unknown shape. \"\n"
          ],
          "name": "stderr"
        },
        {
          "output_type": "stream",
          "text": [
            "Epoch 1/6\n",
            "579/580 [============================>.] - ETA: 0s - loss: 6.2921 - bn_output_loss: 4.4608 - dom_output_loss: 0.7693 - lex_output_loss: 1.0620 - bn_output_acc: 0.3801 - dom_output_acc: 0.8240 - lex_output_acc: 0.7387\n",
            "Epoch 00001: val_bn_output_loss improved from inf to 2.56736, saving model to drive/My Drive/weights.hdf5\n",
            "580/580 [==============================] - 468s 806ms/step - loss: 6.2869 - bn_output_loss: 4.4581 - dom_output_loss: 0.7682 - lex_output_loss: 1.0606 - bn_output_acc: 0.3805 - dom_output_acc: 0.8243 - lex_output_acc: 0.7391 - val_loss: 3.9072 - val_bn_output_loss: 2.5674 - val_dom_output_loss: 0.5677 - val_lex_output_loss: 0.7722 - val_bn_output_acc: 0.6453 - val_dom_output_acc: 0.8964 - val_lex_output_acc: 0.8620\n",
            "Epoch 2/6\n",
            "579/580 [============================>.] - ETA: 0s - loss: 3.8027 - bn_output_loss: 2.5372 - dom_output_loss: 0.5552 - lex_output_loss: 0.7103 - bn_output_acc: 0.6408 - dom_output_acc: 0.8735 - lex_output_acc: 0.8049\n",
            "Epoch 00002: val_bn_output_loss improved from 2.56736 to 1.79848, saving model to drive/My Drive/weights.hdf5\n",
            "580/580 [==============================] - 461s 795ms/step - loss: 3.7999 - bn_output_loss: 2.5359 - dom_output_loss: 0.5545 - lex_output_loss: 0.7095 - bn_output_acc: 0.6409 - dom_output_acc: 0.8737 - lex_output_acc: 0.8052 - val_loss: 3.0339 - val_bn_output_loss: 1.7985 - val_dom_output_loss: 0.5447 - val_lex_output_loss: 0.6907 - val_bn_output_acc: 0.7303 - val_dom_output_acc: 0.9027 - val_lex_output_acc: 0.8734\n",
            "Epoch 3/6\n",
            "579/580 [============================>.] - ETA: 0s - loss: 2.9655 - bn_output_loss: 1.8724 - dom_output_loss: 0.4891 - lex_output_loss: 0.6040 - bn_output_acc: 0.6950 - dom_output_acc: 0.8842 - lex_output_acc: 0.8331\n",
            "Epoch 00003: val_bn_output_loss improved from 1.79848 to 1.43856, saving model to drive/My Drive/weights.hdf5\n",
            "580/580 [==============================] - 463s 798ms/step - loss: 2.9640 - bn_output_loss: 1.8721 - dom_output_loss: 0.4886 - lex_output_loss: 0.6033 - bn_output_acc: 0.6950 - dom_output_acc: 0.8843 - lex_output_acc: 0.8333 - val_loss: 2.6495 - val_bn_output_loss: 1.4386 - val_dom_output_loss: 0.5419 - val_lex_output_loss: 0.6690 - val_bn_output_acc: 0.7708 - val_dom_output_acc: 0.9008 - val_lex_output_acc: 0.8739\n",
            "Epoch 4/6\n",
            "579/580 [============================>.] - ETA: 0s - loss: 2.5016 - bn_output_loss: 1.4939 - dom_output_loss: 0.4528 - lex_output_loss: 0.5549 - bn_output_acc: 0.7287 - dom_output_acc: 0.8917 - lex_output_acc: 0.8468\n",
            "Epoch 00004: val_bn_output_loss improved from 1.43856 to 1.24781, saving model to drive/My Drive/weights.hdf5\n",
            "580/580 [==============================] - 463s 797ms/step - loss: 2.5003 - bn_output_loss: 1.4937 - dom_output_loss: 0.4523 - lex_output_loss: 0.5543 - bn_output_acc: 0.7288 - dom_output_acc: 0.8919 - lex_output_acc: 0.8470 - val_loss: 2.4150 - val_bn_output_loss: 1.2478 - val_dom_output_loss: 0.5271 - val_lex_output_loss: 0.6401 - val_bn_output_acc: 0.7953 - val_dom_output_acc: 0.9015 - val_lex_output_acc: 0.8789\n",
            "Epoch 5/6\n",
            "579/580 [============================>.] - ETA: 0s - loss: 2.1993 - bn_output_loss: 1.2449 - dom_output_loss: 0.4295 - lex_output_loss: 0.5249 - bn_output_acc: 0.7534 - dom_output_acc: 0.8967 - lex_output_acc: 0.8544\n",
            "Epoch 00005: val_bn_output_loss improved from 1.24781 to 1.09098, saving model to drive/My Drive/weights.hdf5\n",
            "580/580 [==============================] - 462s 796ms/step - loss: 2.1975 - bn_output_loss: 1.2442 - dom_output_loss: 0.4290 - lex_output_loss: 0.5243 - bn_output_acc: 0.7536 - dom_output_acc: 0.8969 - lex_output_acc: 0.8546 - val_loss: 2.2009 - val_bn_output_loss: 1.0910 - val_dom_output_loss: 0.5124 - val_lex_output_loss: 0.5975 - val_bn_output_acc: 0.8132 - val_dom_output_acc: 0.9012 - val_lex_output_acc: 0.8781\n",
            "Epoch 6/6\n",
            "579/580 [============================>.] - ETA: 0s - loss: 1.9761 - bn_output_loss: 1.0587 - dom_output_loss: 0.4139 - lex_output_loss: 0.5035 - bn_output_acc: 0.7739 - dom_output_acc: 0.8997 - lex_output_acc: 0.8602\n",
            "Epoch 00006: val_bn_output_loss improved from 1.09098 to 1.01949, saving model to drive/My Drive/weights.hdf5\n",
            "580/580 [==============================] - 461s 795ms/step - loss: 1.9745 - bn_output_loss: 1.0580 - dom_output_loss: 0.4135 - lex_output_loss: 0.5030 - bn_output_acc: 0.7740 - dom_output_acc: 0.8998 - lex_output_acc: 0.8603 - val_loss: 2.1312 - val_bn_output_loss: 1.0195 - val_dom_output_loss: 0.5128 - val_lex_output_loss: 0.5990 - val_bn_output_acc: 0.8214 - val_dom_output_acc: 0.9008 - val_lex_output_acc: 0.8769\n",
            "Training complete.\n",
            "\n"
          ],
          "name": "stdout"
        }
      ]
    },
    {
      "cell_type": "code",
      "metadata": {
        "id": "C7fIghbMWeMt",
        "colab_type": "code",
        "colab": {}
      },
      "source": [
        "#WRITE THE TRAINING BRIEFING FILE\n",
        "briefing = \"briefing.txt\"\n",
        "def write_briefing(model,stats,train_x_sem,train_x_euro,train_x_tom,\n",
        "                   train_x_concatenate,number_of_appearance_input,\n",
        "                   number_of_appearance_sense_bn,vocab_input_data,\n",
        "                   output_bn_vocab,output_dom_vocab,output_lex_vocab,\n",
        "                   EMBEDDING_SIZE,HIDDEN_SIZE,INPUT_DROPOUT,LSTM_DROPOUT,\n",
        "                   LEARNING_RATE,OPTIMIZER,BATCH_SIZE,EPOCHS,STEPS_PER_EPOCH\n",
        "                   ,VALIDATION_STEPS,used_elmo=False,used_attention= False):\n",
        "  print(\"BRIEFING\\n\")\n",
        "  print(\"TRAINING STEP:\\n\")\n",
        "  print(\"Datasets used:\")\n",
        "  print(\"Semcor with \",len(train_x_sem),\" sentences\") if train_x_sem != [] else None\n",
        "  print(\"Eurosense with \",len(train_x_euro),\" sentences\") if train_x_euro != [] else None\n",
        "  print(\"Tom with \",len(train_x_tom),\" sentences\") if train_x_tom != [] else None\n",
        "  print(\"total sentences: \",len(train_x_concatenate),\"\\n\\n\")\n",
        "  print(\"Vocab used:\")\n",
        "  print(\"The input vocab has only words that appear \"+str(number_of_appearance_input)+\" or more times\")\n",
        "  print(\"The output bn vocab has only sense words that appear \"+str(number_of_appearance_sense_bn)+\" or more times\")\n",
        "  print(len(vocab_input_data),\" words for input vocab\")\n",
        "  print(len(output_bn_vocab),\" words for output bn vocab, where\" \n",
        "        ,len(output_bn_vocab)-len(vocab_input_data),\" are sense babelnet\")\n",
        "  print(len(output_dom_vocab),\" words for output dom vocab\")\n",
        "  print(len(output_lex_vocab),\" words for output lex vocab\\n\\n\")\n",
        "  print(\"Model used:\")\n",
        "  print(\"BLSTM MultiTask with Elmo\") if used_elmo else print(\"BLSTM Multitask Keras Embeddings\")\n",
        "  print(\"..with Attention Layer\") if used_attention else print(\"...without Attention Layer\")\n",
        "  print(\"Model parameters:\")\n",
        "  print(\"Embedding size: \",EMBEDDING_SIZE,\"\") if not used_elmo else None\n",
        "  print(\"Hidden size: \",HIDDEN_SIZE,\"\")\n",
        "  print(\"Input Dropout: \",INPUT_DROPOUT,\"\")\n",
        "  print(\"LSTM Dropout: \",LSTM_DROPOUT,\"\")\n",
        "  print(\"Learning rate: \",LEARNING_RATE,\"\")\n",
        "  print(\"Optimizer: \",OPTIMIZER,\"\\n\\n\")\n",
        "  print(\"Training parameters: \")\n",
        "  print(\"Batch size: \",BATCH_SIZE,\"\")\n",
        "  print(\"Epochs: \",EPOCHS,\"\")\n",
        "  print(\"Steps_per_epochs: \",STEPS_PER_EPOCH,\"\")\n",
        "  print(\"Validation Steps: \",VALIDATION_STEPS,\"\\n\\n\")\n",
        "  print(\"Model summary: \")\n",
        "  print(model.summary())\n",
        "  print(\"---------------------\")\n",
        "  print(\"Model performance: \")\n",
        "  for k,v in stats.history.items():\n",
        "    print(k,\" --> from \",v[0],\" to \",v[-1])\n",
        "  \n",
        "  \n",
        "  "
      ],
      "execution_count": 0,
      "outputs": []
    },
    {
      "cell_type": "code",
      "metadata": {
        "id": "wQ7BirOAqg4Y",
        "colab_type": "code",
        "colab": {}
      },
      "source": [
        "#Load the weights if colab disconnetted\n",
        "model.load_weights(\"drive/My Drive/elmo_weights.hdf5\")"
      ],
      "execution_count": 0,
      "outputs": []
    },
    {
      "cell_type": "code",
      "metadata": {
        "id": "KQVyrBqsAtCk",
        "colab_type": "code",
        "outputId": "e880e3d5-c810-4519-e631-1380dc202e8c",
        "colab": {
          "base_uri": "https://localhost:8080/",
          "height": 1000
        }
      },
      "source": [
        "write_briefing(model,stats,train_x_sem,train_x_euro,train_x_tom,\n",
        "                   train_x,number_of_appearance_input,\n",
        "                   number_of_appearance_sense_bn,vocab_input_data,\n",
        "                   output_bn_vocab,output_dom_vocab,output_lex_vocab,\n",
        "                   EMBEDDING_SIZE,HIDDEN_SIZE,INPUT_DROPOUT,LSTM_DROPOUT,\n",
        "                   LEARNING_RATE,OPTIMIZER,BATCH_SIZE,EPOCHS,STEPS_PER_EPOCH\n",
        "                   ,VALIDATION_STEPS,used_elmo=False,used_attention=False)"
      ],
      "execution_count": 0,
      "outputs": [
        {
          "output_type": "stream",
          "text": [
            "BRIEFING\n",
            "\n",
            "TRAINING STEP:\n",
            "\n",
            "Datasets used:\n",
            "Semcor with  37176  sentences\n",
            "total sentences:  37176 \n",
            "\n",
            "\n",
            "Vocab used:\n",
            "The input vocab has only words that appear 5 or more times\n",
            "The output bn vocab has only sense words that appear 5 or more times\n",
            "11342  words for input vocab\n",
            "19541  words for output bn vocab, where 8199  are sense babelnet\n",
            "168  words for output dom vocab\n",
            "47  words for output lex vocab\n",
            "\n",
            "\n",
            "Model used:\n",
            "BLSTM Multitask Keras Embeddings\n",
            "...without Attention Layer\n",
            "Model parameters:\n",
            "Embedding size:  300 \n",
            "Hidden size:  256 \n",
            "Input Dropout:  0.4 \n",
            "LSTM Dropout:  0.4 \n",
            "Learning rate:  0.0015 \n",
            "Optimizer:  adam \n",
            "\n",
            "\n",
            "Training parameters: \n",
            "Batch size:  64 \n",
            "Epochs:  6 \n",
            "Steps_per_epochs:  580 \n",
            "Validation Steps:  16 \n",
            "\n",
            "\n",
            "Model summary: \n",
            "__________________________________________________________________________________________________\n",
            "Layer (type)                    Output Shape         Param #     Connected to                     \n",
            "==================================================================================================\n",
            "input_1 (InputLayer)            (None, None)         0                                            \n",
            "__________________________________________________________________________________________________\n",
            "embedding (Embedding)           (None, None, 300)    3402600     input_1[0][0]                    \n",
            "__________________________________________________________________________________________________\n",
            "Dropout (Dropout)               (None, None, 300)    0           embedding[0][0]                  \n",
            "__________________________________________________________________________________________________\n",
            "bidirectional (Bidirectional)   (None, None, 512)    1140736     Dropout[0][0]                    \n",
            "__________________________________________________________________________________________________\n",
            "bidirectional_1 (Bidirectional) (None, None, 512)    1574912     bidirectional[0][0]              \n",
            "__________________________________________________________________________________________________\n",
            "bn_output (Dense)               (None, None, 19541)  10024533    bidirectional_1[0][0]            \n",
            "__________________________________________________________________________________________________\n",
            "dom_output (Dense)              (None, None, 168)    86184       bidirectional_1[0][0]            \n",
            "__________________________________________________________________________________________________\n",
            "lex_output (Dense)              (None, None, 47)     24111       bidirectional_1[0][0]            \n",
            "==================================================================================================\n",
            "Total params: 16,253,076\n",
            "Trainable params: 16,253,076\n",
            "Non-trainable params: 0\n",
            "__________________________________________________________________________________________________\n",
            "None\n",
            "---------------------\n",
            "Model performance: \n",
            "val_loss  --> from  3.907220580742388  to  2.131228074653223\n",
            "val_bn_output_loss  --> from  2.5673581240786914  to  1.0194887517269635\n",
            "val_dom_output_loss  --> from  0.5676713127728567  to  0.5127645296640745\n",
            "val_lex_output_loss  --> from  0.7721910831570141  to  0.5989747083719431\n",
            "val_bn_output_acc  --> from  0.6452612754295256  to  0.8214245624890669\n",
            "val_dom_output_acc  --> from  0.8964267606986875  to  0.9008486081363384\n",
            "val_lex_output_acc  --> from  0.8620221897132987  to  0.8769378182207296\n",
            "loss  --> from  6.286945304788392  to  1.9746724785492065\n",
            "bn_output_loss  --> from  4.458094306649833  to  1.0580421944557785\n",
            "dom_output_loss  --> from  0.7682388141237456  to  0.41355542571965054\n",
            "lex_output_loss  --> from  1.0606121858389213  to  0.5030748511303805\n",
            "bn_output_acc  --> from  0.38050249097547656  to  0.7740206078584658\n",
            "dom_output_acc  --> from  0.8242566839127464  to  0.8998033311968863\n",
            "lex_output_acc  --> from  0.7390528362918773  to  0.8603050555615467\n"
          ],
          "name": "stdout"
        }
      ]
    },
    {
      "cell_type": "code",
      "metadata": {
        "id": "Fz5lLHAOFR4F",
        "colab_type": "code",
        "colab": {}
      },
      "source": [
        "#METHOD USED TO PLOT THE PERFORMANCE OF THE MODEL\n",
        "\n",
        "import matplotlib.pyplot as plt\n",
        "%matplotlib inline\n",
        "def plot_model_performance(stats,train,val,dir):\n",
        "  \n",
        "  par_train = stats.history[train]\n",
        "  par_val = stats.history[val]\n",
        "  epochs = range(1, len(par_train) + 1)\n",
        "\n",
        "  plt.plot(epochs, par_train, 'g', label='Training '+train)\n",
        "  plt.plot(epochs, par_val, 'b', label='Validation '+train)\n",
        "  plt.title('Training and validation '+train)\n",
        "  plt.xlabel('Epochs')\n",
        "  plt.ylabel(train)\n",
        "  plt.legend()\n",
        "  plt.savefig(dir+train+\".png\")\n",
        "  plt.show()"
      ],
      "execution_count": 0,
      "outputs": []
    },
    {
      "cell_type": "code",
      "metadata": {
        "id": "zxADI_XFem8N",
        "colab_type": "code",
        "outputId": "df7a42a5-d85d-4dbf-89cd-0922434e4e9a",
        "colab": {
          "base_uri": "https://localhost:8080/",
          "height": 1000
        }
      },
      "source": [
        "#PLOT THE MODEL PERFORMANCE\n",
        "plot_dir = \"plots/\"\n",
        "!mkdir plots\n",
        "plot_model_performance(stats,\"bn_output_acc\",\"val_bn_output_acc\",plot_dir)\n",
        "plot_model_performance(stats,\"dom_output_acc\",\"val_dom_output_acc\",plot_dir)\n",
        "plot_model_performance(stats,\"lex_output_acc\",\"val_lex_output_acc\",plot_dir)\n",
        "plot_model_performance(stats,\"loss\",\"val_loss\",plot_dir)\n",
        "plot_model_performance(stats,\"bn_output_loss\",\"val_bn_output_loss\",plot_dir)\n",
        "plot_model_performance(stats,\"dom_output_loss\",\"val_dom_output_loss\",plot_dir)\n",
        "plot_model_performance(stats,\"lex_output_loss\",\"val_lex_output_loss\",plot_dir)\n",
        "!tar -zcvf plots.tar.gz plots"
      ],
      "execution_count": 0,
      "outputs": [
        {
          "output_type": "stream",
          "text": [
            "mkdir: cannot create directory ‘plots’: File exists\n"
          ],
          "name": "stdout"
        },
        {
          "output_type": "display_data",
          "data": {
            "image/png": "[encoded data removed]",
            "text/plain": [
              "<Figure size 432x288 with 1 Axes>"
            ]
          },
          "metadata": {
            "tags": []
          }
        },
        {
          "output_type": "display_data",
          "data": {
            "image/png": "[encoded data removed]",
            "text/plain": [
              "<Figure size 432x288 with 1 Axes>"
            ]
          },
          "metadata": {
            "tags": []
          }
        },
        {
          "output_type": "display_data",
          "data": {
            "image/png": "[encoded data removed]",
            "text/plain": [
              "<Figure size 432x288 with 1 Axes>"
            ]
          },
          "metadata": {
            "tags": []
          }
        },
        {
          "output_type": "display_data",
          "data": {
            "image/png": "[encoded data removed]",
            "text/plain": [
              "<Figure size 432x288 with 1 Axes>"
            ]
          },
          "metadata": {
            "tags": []
          }
        },
        {
          "output_type": "display_data",
          "data": {
            "image/png": "[encoded data removed]",
            "text/plain": [
              "<Figure size 432x288 with 1 Axes>"
            ]
          },
          "metadata": {
            "tags": []
          }
        },
        {
          "output_type": "display_data",
          "data": {
            "image/png": "[encoded data removed]",
            "text/plain": [
              "<Figure size 432x288 with 1 Axes>"
            ]
          },
          "metadata": {
            "tags": []
          }
        },
        {
          "output_type": "display_data",
          "data": {
            "image/png": "[encoded data removed]",
            "text/plain": [
              "<Figure size 432x288 with 1 Axes>"
            ]
          },
          "metadata": {
            "tags": []
          }
        },
        {
          "output_type": "stream",
          "text": [
            "plots/\n",
            "plots/bn_output_acc.png\n",
            "plots/bn_output_loss.png\n",
            "plots/dom_output_acc.png\n",
            "plots/lex_output_loss.png\n",
            "plots/dom_output_loss.png\n",
            "plots/loss.png\n",
            "plots/lex_output_acc.png\n"
          ],
          "name": "stdout"
        }
      ]
    },
    {
      "cell_type": "markdown",
      "metadata": {
        "id": "iL3jIRJ7Dm8I",
        "colab_type": "text"
      },
      "source": [
        "# predict phase"
      ]
    },
    {
      "cell_type": "code",
      "metadata": {
        "id": "__C2MNbKDmCI",
        "colab_type": "code",
        "outputId": "c4f9d54c-3220-4532-d45b-4a565d4ac68f",
        "colab": {
          "base_uri": "https://localhost:8080/",
          "height": 85
        }
      },
      "source": [
        "!mkdir output\n",
        "import nltk\n",
        "nltk.download('wordnet')"
      ],
      "execution_count": 0,
      "outputs": [
        {
          "output_type": "stream",
          "text": [
            "mkdir: cannot create directory ‘output’: File exists\n",
            "[nltk_data] Downloading package wordnet to /root/nltk_data...\n",
            "[nltk_data]   Package wordnet is already up-to-date!\n"
          ],
          "name": "stdout"
        },
        {
          "output_type": "execute_result",
          "data": {
            "text/plain": [
              "True"
            ]
          },
          "metadata": {
            "tags": []
          },
          "execution_count": 17
        }
      ]
    },
    {
      "cell_type": "code",
      "metadata": {
        "id": "pSupVy9CD7e2",
        "colab_type": "code",
        "colab": {}
      },
      "source": [
        "import model as md\n",
        "import preprocessing as pre\n",
        "import os\n",
        "import numpy as np\n",
        "from tqdm import tqdm\n",
        "from nltk.corpus import wordnet as wn\n",
        "import parsing as par\n",
        "import global_paths as gp\n",
        "import tensorflow as tf\n",
        "from tensorflow.python.keras import backend as K, metrics"
      ],
      "execution_count": 0,
      "outputs": []
    },
    {
      "cell_type": "code",
      "metadata": {
        "id": "8Myiqeb_EC4O",
        "colab_type": "code",
        "colab": {}
      },
      "source": [
        "PREDICT_2BLSTM = False\n",
        "predict_elmo = True\n",
        "predict_attention = True\n",
        "\n",
        "weights_file = \"drive/My Drive/weights.hdf5\""
      ],
      "execution_count": 0,
      "outputs": []
    },
    {
      "cell_type": "code",
      "metadata": {
        "id": "og8EAicsE6RX",
        "colab_type": "code",
        "colab": {}
      },
      "source": [
        "'''\n",
        "Method that return only the corresponding tokens form the output_vocab from the synsets that have the same lemma passed\n",
        "in input.\n",
        ":lemma the input word\n",
        ":output_vocab the dictionary that contains simple words and sense words as keys\n",
        "and id tokens as values\n",
        ":sense_vocab the dictionary that contains the babelnet synsets used as filter.\n",
        ":return a list with the id tokens \n",
        "'''\n",
        "def return_index_of_vocab_bn(lemma, output_vocab, sense_vocab):\n",
        "  result = []\n",
        "  for k,v in output_vocab.items():\n",
        "    #if the key is a sense word and the lemma of this word\n",
        "    #is equal to my lemma\n",
        "    if k in sense_vocab and k.split(\"_bn:\")[0] == lemma:\n",
        "        result.append(v)\n",
        "  return result\n",
        "\n",
        "'''\n",
        "Method used to return all synsets from the output_bn_vocab that have the same lemma passed in input.\n",
        ":param lemma lemma used to search the corresponding synsets\n",
        ":param output_bn_vocab dictionary where search the babelnet synsets\n",
        ":return a list containing only babelnet synsets that corresponding to the lemma\n",
        "'''\n",
        "def return_all_synsets_from_lemma(lemma,output_bn_vocab):\n",
        "    result = []\n",
        "    for k in output_bn_vocab.keys():\n",
        "        if \"bn:\" in k and k.split(\"_bn:\")[0] == lemma:\n",
        "            result.append(\"bn:\"+k.split(\"_bn:\")[1])\n",
        "    return result\n",
        "\n",
        "\n",
        "def return_sense_indices_of_vocab(list_synsets, map_to_convert, output_sense_vocab, mode = 'dom'):\n",
        "    result = []\n",
        "    for el in list_synsets:\n",
        "        if el in map_to_convert:\n",
        "            sense = map_to_convert[el]\n",
        "        else:\n",
        "            if mode == 'dom':\n",
        "                sense = \"factotum\"\n",
        "            elif mode == 'lex':\n",
        "                return []\n",
        "        index = output_sense_vocab[sense]\n",
        "        result.append(index)\n",
        "    return result\n",
        "\n",
        "\n",
        "'''\n",
        "Method that writes the result obtained from the predict on a file.\n",
        ":param file_to_write the file_path where write the result\n",
        ":result_map the dictionary containing the id of the instances as keys and\n",
        "the value predicted as values\n",
        "'''\n",
        "def write_result_on_file(file_to_write,result_map):\n",
        "    with open(file_to_write,'w',encoding='utf-8') as fw:\n",
        "        for k, v in result_map.items():\n",
        "            fw.write(k+\" \"+v+'\\n')\n",
        "    fw.close()\n"
      ],
      "execution_count": 0,
      "outputs": []
    },
    {
      "cell_type": "code",
      "metadata": {
        "id": "0i7rFH5IE8ex",
        "colab_type": "code",
        "colab": {}
      },
      "source": [
        "def preprocess_for_predict(input_path, resources_path, mode = 'bn'):\n",
        "    print(\"load data and clean it to make vocabs\")\n",
        "    # load the paths used to make the vocabs\n",
        "    num_eurosense = 40000\n",
        "    num_tom = 80000\n",
        "    \n",
        "    train_x = pre.load_data_from_file(resources_path + gp.semCor_train_input_path)\n",
        "    label_bn_y = pre.load_data_from_file(resources_path + gp.semCor_train_bn_labels_path)\n",
        "  \n",
        "\n",
        "    b2dom, dom2b = par.create_maps_from_tsv(resources_path + gp.b2wn_domains_map_path)\n",
        "    b2lex, lex2b = par.create_maps_from_tsv(resources_path + gp.b2lexnames_map_path)\n",
        "\n",
        "    print(\"create wordnet to babelnet mapping\")\n",
        "    # create the wordnet to babelnet mapping\n",
        "    b2w_map, w2b_map = par.create_maps_from_tsv(os.path.join(resources_path, \"babelnet2wordnet.tsv\"))\n",
        "\n",
        "    print(\"load input test\")\n",
        "    # load datasets for the test (PUT THE INPUT)\n",
        "    test_x = par.parse_test_data(input_path)\n",
        "\n",
        "    print(\"create vocabs\")\n",
        "    # define the vocabs : calculate the frequent words of the the datasets to make them\n",
        "    number_of_appearance_input = 5\n",
        "    number_of_appearance_sense_bn = 5\n",
        "    \n",
        "\n",
        "    vocab_input_data = pre.create_input_vocab(train_x,number_of_appearance_input)\n",
        "    vocab_bn_labels = pre.create_sense_bn_vocab(label_bn_y, number_of_appearance_sense_bn)\n",
        "    vocab_dom_labels = pre.create_sense_inventory(b2dom)\n",
        "    vocab_lex_labels = pre.create_sense_inventory(b2lex)\n",
        "    output_bn_vocab, reverse_output_bn_vocab = pre.make_output_bn_vocab(vocab_input_data, vocab_bn_labels)\n",
        "    output_dom_vocab, reverse_output_dom_vocab = pre.make_output_sense_vocab(vocab_dom_labels)\n",
        "    output_lex_vocab, reverse_output_lex_vocab = pre.make_output_sense_vocab(vocab_lex_labels)\n",
        "\n",
        "    if not predict_elmo:\n",
        "        print(\"tokenize test data\")\n",
        "        # produce the test_data_tokenized\n",
        "        test_x_tokenized = pre.tokenize_data(test_x, output_bn_vocab, mode='test')\n",
        "    else:\n",
        "        test_x_tokenized = pre.make_sentences_for_test(test_x)\n",
        "\n",
        "    #return some variable\n",
        "    if mode == 'bn':\n",
        "        return test_x, test_x_tokenized, vocab_input_data, vocab_bn_labels, \\\n",
        "               output_bn_vocab,output_dom_vocab,output_lex_vocab, reverse_output_bn_vocab, w2b_map,\n",
        "    elif mode == 'dom':\n",
        "        return test_x, test_x_tokenized,vocab_input_data, vocab_dom_labels,\\\n",
        "               output_bn_vocab,output_dom_vocab,output_lex_vocab, reverse_output_dom_vocab, w2b_map, b2dom\n",
        "    elif mode == 'lex':\n",
        "        return test_x, test_x_tokenized,vocab_input_data, vocab_lex_labels,\\\n",
        "               output_bn_vocab,output_dom_vocab,output_lex_vocab, reverse_output_lex_vocab, w2b_map, b2lex"
      ],
      "execution_count": 0,
      "outputs": []
    },
    {
      "cell_type": "code",
      "metadata": {
        "id": "tx8ZqmGmFJip",
        "colab_type": "code",
        "colab": {}
      },
      "source": [
        "def predict_babelnet(input_path: str, output_path: str, resources_path: str) -> None:\n",
        "    \"\"\"\n",
        "    DO NOT MODIFY THE SIGNATURE!\n",
        "    This is the skeleton of the prediction function.\n",
        "    The predict function will build your model, load the weights from the checkpoint and write a new file (output_path)\n",
        "    with your predictions in the \"<id> <BABELSynset>\" format (e.g. \"d000.s000.t000 bn:01234567n\").\n",
        "\n",
        "    The resources folder should contain everything you need to make the predictions. It is the \"resources\" folder in your submission.\n",
        "\n",
        "    N.B. DO NOT HARD CODE PATHS IN HERE. Use resource_path instead, otherwise we will not be able to run the code.\n",
        "    If you don't know what HARD CODING means see: https://en.wikipedia.org/wiki/Hard_coding\n",
        "\n",
        "    :param input_path: the path of the input file to predict in the same format as Raganato's framework (XML files you downloaded).\n",
        "    :param output_path: the path of the output file (where you save your predictions)\n",
        "    :param resources_path: the path of synsets indices the resources folder containing your model and stuff you might need.\n",
        "    :return: None\n",
        "    \"\"\"\n",
        "    print(\"PREDICT BABELNET!\")\n",
        "    test_x, test_x_tokenized,vocab_input_data, vocab_bn_labels, output_bn_vocab,output_dom_vocab,output_lex_vocab, reverse_output_bn_vocab, w2b_map = \\\n",
        "        preprocess_for_predict(input_path,resources_path,mode='bn')\n",
        "\n",
        "    print(\"build model\")\n",
        "    # build the model\n",
        "    if PREDICT_2BLSTM:\n",
        "      model = md.create_2_BLSTM_layers(len(vocab_input_data), len(output_bn_vocab), len(output_dom_vocab),\n",
        "                                         len(output_lex_vocab),\n",
        "                                         EMBEDDING_SIZE,\n",
        "                                         HIDDEN_SIZE,\n",
        "                                         INPUT_DROPOUT,\n",
        "                                         LSTM_DROPOUT)\n",
        "    else:\n",
        "      model = md.create_BLSTM(len(vocab_input_data), len(output_bn_vocab), len(output_dom_vocab),\n",
        "                                len(output_lex_vocab),\n",
        "                                EMBEDDING_SIZE,\n",
        "                                HIDDEN_SIZE,\n",
        "                                INPUT_DROPOUT,\n",
        "                                LSTM_DROPOUT, elmo=predict_elmo, attention=predict_attention)\n",
        "\n",
        "    sess = K.get_session()\n",
        "    init = tf.global_variables_initializer()\n",
        "    sess.run(init)\n",
        "    print(\"load weights\")\n",
        "    # load the weights\n",
        "    #model.load_weights(os.path.join(resources_path, \"weights.hdf5\"))\n",
        "    model.load_weights(weights_file)\n",
        "\n",
        "    print(\"predict the test\")\n",
        "    # predict from the test\n",
        "    result = dict()\n",
        "    num_words = 0\n",
        "    num_mfs = 0\n",
        "    # for each sentence\n",
        "    for i in tqdm(range(len(test_x_tokenized))):\n",
        "        # produce the probability matrix of predict\n",
        "        pred_matrix = model.predict(test_x_tokenized[i])\n",
        "        #print(\"Lunghezza matrice: \",len(pred_matrix[0][0]))\n",
        "        #print(len(test_x_tokenized[i][0].split(\" \")),test_x_tokenized[i][0])\n",
        "\n",
        "        # take the indices of the instances of the sentence\n",
        "        for word in test_x[i]:\n",
        "            splitted = word.split(\"|\")\n",
        "            # only instances have splitted length major of 1\n",
        "            if len(splitted) > 1:\n",
        "                w = splitted[0]\n",
        "                id = splitted[1]\n",
        "                index = splitted[2]\n",
        "                lemma = splitted[3]\n",
        "                pos = splitted[4]\n",
        "\n",
        "                num_words += 1\n",
        "                \n",
        "                if pos == 'NOUN':\n",
        "                  pos = 'n'\n",
        "                elif pos == 'VERB':\n",
        "                  pos = 'v'\n",
        "                elif pos == 'ADJ':\n",
        "                  pos = 'a'\n",
        "                elif pos == 'ADV':\n",
        "                  pos = 'r'\n",
        "                #print(\"id: \",id,\" word: \",w,\" \",index)\n",
        "                #print(\"word in sentence: \",test_x_tokenized[i][0].split(\" \")[int(index)])\n",
        "                list_indices_vocab = return_index_of_vocab_bn(lemma, output_bn_vocab, vocab_bn_labels)\n",
        "\n",
        "                # if there aren't synsets, in the mode case 'bn', return the mfs of the lemma\n",
        "                if len(list_indices_vocab) == 0:\n",
        "                    synset = par.mfs(lemma,pos, w2b_map)\n",
        "                    result[id] = synset\n",
        "                    num_mfs += 1\n",
        "                else:\n",
        "                    list_argmax = []\n",
        "                    # take the values that interest for the argmax value\n",
        "                    for val in list_indices_vocab:\n",
        "                        if not predict_elmo:\n",
        "                            list_argmax.append(pred_matrix[0][int(index)][0][val])\n",
        "                        else:\n",
        "                            list_argmax.append(pred_matrix[0][0][int(index)][val])\n",
        "                    # compute argmax for specific word\n",
        "                    argmax = np.argmax(list_argmax)\n",
        "                    # obtain the correspettive synset\n",
        "                    synset = reverse_output_bn_vocab[list_indices_vocab[argmax]]\n",
        "                    # cut the lemma and take0 only the sense\n",
        "                    sense = \"bn:\" + synset.split(\"_bn:\")[1]\n",
        "                    result[id] = sense\n",
        "    print(\"mfs: \", num_mfs, \" / \", num_words)\n",
        "\n",
        "    print(\"write result on file\")\n",
        "    # HERE WRITE THE RESULT ON THE OUTPUT PATH\n",
        "    write_result_on_file(output_path, result)\n",
        "    print(\"create file in:\", output_path)\n",
        "    print(\"Done!\")"
      ],
      "execution_count": 0,
      "outputs": []
    },
    {
      "cell_type": "code",
      "metadata": {
        "id": "S3DadJnPFL7_",
        "colab_type": "code",
        "colab": {}
      },
      "source": [
        "def predict_wordnet_domains(input_path : str, output_path : str, resources_path : str) -> None:\n",
        "    \"\"\"\n",
        "    DO NOT MODIFY THE SIGNATURE!\n",
        "    This is the skeleton of the prediction function.\n",
        "    The predict function will build your model, load the weights from the checkpoint and write a new file (output_path)\n",
        "    with your predictions in the \"<id> <wordnetDomain>\" format (e.g. \"d000.s000.t000 sport\").\n",
        "\n",
        "    The resources folder should contain everything you need to make the predictions. It is the \"resources\" folder in your submission.\n",
        "\n",
        "    N.B. DO NOT HARD CODE PATHS IN HERE. Use resource_path instead, otherwise we will not be able to run the code.\n",
        "    If you don't know what HARD CODING means see: https://en.wikipedia.org/wiki/Hard_coding\n",
        "\n",
        "    :param input_path: the path of the input file to predict in the same format as Raganato's framework (XML files you downloaded).\n",
        "    :param output_path: the path of the output file (where you save your predictions)\n",
        "    :param resources_path: the path of the resources folder containing your model and stuff you might need.\n",
        "    :return: None\n",
        "    \"\"\"\n",
        "    print(\"PREDICT WORDNET DOMAINS!\")\n",
        "    test_x, test_x_tokenized, vocab_input_data, vocab_dom_labels, output_bn_vocab, output_dom_vocab, output_lex_vocab, reverse_output_dom_vocab, w2b_map, b2dom = \\\n",
        "        preprocess_for_predict(input_path, resources_path, mode='dom')\n",
        "\n",
        "    print(\"build model\")\n",
        "    # build the model\n",
        "    if PREDICT_2BLSTM:\n",
        "      model = md.create_2_BLSTM_layers(len(vocab_input_data), len(output_bn_vocab), len(output_dom_vocab),\n",
        "                                         len(output_lex_vocab),\n",
        "                                         EMBEDDING_SIZE,\n",
        "                                         HIDDEN_SIZE,\n",
        "                                         INPUT_DROPOUT,\n",
        "                                         LSTM_DROPOUT)\n",
        "    else:\n",
        "      model = md.create_BLSTM(len(vocab_input_data), len(output_bn_vocab), len(output_dom_vocab),\n",
        "                                len(output_lex_vocab),\n",
        "                                EMBEDDING_SIZE,\n",
        "                                HIDDEN_SIZE,\n",
        "                                INPUT_DROPOUT,\n",
        "                                LSTM_DROPOUT, elmo=predict_elmo, attention=predict_attention)\n",
        "\n",
        "    sess = K.get_session()\n",
        "    init = tf.global_variables_initializer()\n",
        "    sess.run(init)\n",
        "    print(\"load weights\")\n",
        "    # load the weights\n",
        "    #model.load_weights(os.path.join(resources_path, \"weights.hdf5\"))\n",
        "    model.load_weights(weights_file)\n",
        "\n",
        "    print(\"predict the test\")\n",
        "    # predict from the test\n",
        "    result = dict()\n",
        "    num_words = 0\n",
        "    num_mfs = 0\n",
        "\n",
        "    # for each sentence\n",
        "    for i in tqdm(range(len(test_x_tokenized))):\n",
        "\n",
        "        # produce the probability matrix of predict\n",
        "        pred_matrix = model.predict(test_x_tokenized[i])\n",
        "\n",
        "        # take the indices of the instances of the sentence\n",
        "        for word in test_x[i]:\n",
        "            splitted = word.split(\"|\")\n",
        "            # only instances have splitted length major of 1\n",
        "            if len(splitted) > 1:\n",
        "                w = splitted[0]\n",
        "                id = splitted[1]\n",
        "                index = splitted[2]\n",
        "                lemma = splitted[3]\n",
        "                pos = splitted[4]\n",
        "\n",
        "                num_words += 1\n",
        "                \n",
        "                if pos == 'NOUN':\n",
        "                  pos = 'n'\n",
        "                elif pos == 'VERB':\n",
        "                  pos = 'v'\n",
        "                elif pos == 'ADJ':\n",
        "                  pos = 'a'\n",
        "                elif pos == 'ADV':\n",
        "                  pos = 'r'\n",
        "\n",
        "                list_synsets = return_all_synsets_from_lemma(lemma, output_bn_vocab)\n",
        "                if len(list_synsets) == 0:\n",
        "                    synset = par.mfs(lemma,pos, w2b_map)\n",
        "                    if synset in b2dom:\n",
        "                        result[id] = b2dom[synset]\n",
        "                        num_mfs+=1\n",
        "                    else:\n",
        "                        result[id] = \"factotum\"\n",
        "                    continue\n",
        "\n",
        "                list_indices_vocab = return_sense_indices_of_vocab(list_synsets,b2dom,output_dom_vocab,mode='dom')\n",
        "                if len(list_indices_vocab) == 0:\n",
        "                    synset = par.mfs(lemma,pos, w2b_map)\n",
        "                    if synset in b2dom:\n",
        "                        result[id] = b2dom[synset]\n",
        "                        num_mfs += 1\n",
        "                    else:\n",
        "                        result[id] = \"factotum\"\n",
        "                    continue\n",
        "                else:\n",
        "                    list_argmax = []\n",
        "                    # take the values that interest for the argmax value\n",
        "                    for val in list_indices_vocab:\n",
        "                        if not predict_elmo:\n",
        "                            list_argmax.append(pred_matrix[1][int(index)][0][val])\n",
        "                        else:\n",
        "                            list_argmax.append(pred_matrix[1][0][int(index)][val])\n",
        "                    # compute argmax for specific word\n",
        "                    argmax = np.argmax(list_argmax)\n",
        "                    # obtain the correspettive synset\n",
        "                    synset = reverse_output_dom_vocab[list_indices_vocab[argmax]]\n",
        "                    result[id] = synset\n",
        "    print(\"MFS SU TOT WORDS: \",num_mfs, \" / \",num_words)\n",
        "\n",
        "    print(\"write result on file\")\n",
        "    # HERE WRITE THE RESULT ON THE OUTPUT PATH\n",
        "    write_result_on_file(output_path, result)\n",
        "    print(\"create file in:\", output_path)\n",
        "    print(\"Done!\")"
      ],
      "execution_count": 0,
      "outputs": []
    },
    {
      "cell_type": "code",
      "metadata": {
        "id": "bdz3WDzeFQJW",
        "colab_type": "code",
        "colab": {}
      },
      "source": [
        "def predict_lexicographer(input_path : str, output_path : str, resources_path : str) -> None:\n",
        "    \"\"\"\n",
        "    DO NOT MODIFY THE SIGNATURE!\n",
        "    This is the skeleton of the prediction function.\n",
        "    The predict function will build your model, load the weights from the checkpoint and write a new file (output_path)\n",
        "    with your predictions in the \"<id> <lexicographerId>\" format (e.g. \"d000.s000.t000 noun.animal\").\n",
        "\n",
        "    The resources folder should contain everything you need to make the predictions. It is the \"resources\" folder in your submission.\n",
        "\n",
        "    N.B. DO NOT HARD CODE PATHS IN HERE. Use resource_path instead, otherwise we will not be able to run the code.\n",
        "    If you don't know what HARD CODING means see: https://en.wikipedia.org/wiki/Hard_coding\n",
        "\n",
        "    :param input_path: the path of the input file to predict in the same format as Raganato's framework (XML files you downloaded).\n",
        "    :param output_path: the path of the output file (where you save your predictions)\n",
        "    :param resources_path: the path of the resources folder containing your model and stuff you might need.\n",
        "    :return: None\n",
        "    \"\"\"\n",
        "    print(\"PREDICT LEXNAMES!\")\n",
        "    test_x, test_x_tokenized, vocab_input_data, vocab_lex_labels, output_bn_vocab, output_dom_vocab, output_lex_vocab, reverse_output_lex_vocab, w2b_map, b2lex = \\\n",
        "        preprocess_for_predict(input_path, resources_path, mode='lex')\n",
        "\n",
        "    print(\"build model\")\n",
        "    # build the model\n",
        "    if PREDICT_2BLSTM:\n",
        "      model = md.create_2_BLSTM_layers(len(vocab_input_data), len(output_bn_vocab), len(output_dom_vocab),\n",
        "                                         len(output_lex_vocab),\n",
        "                                         EMBEDDING_SIZE,\n",
        "                                         HIDDEN_SIZE,\n",
        "                                         INPUT_DROPOUT,\n",
        "                                         LSTM_DROPOUT)\n",
        "    else:\n",
        "      model = md.create_BLSTM(len(vocab_input_data), len(output_bn_vocab), len(output_dom_vocab),\n",
        "                                len(output_lex_vocab),\n",
        "                                EMBEDDING_SIZE,\n",
        "                                HIDDEN_SIZE,\n",
        "                                INPUT_DROPOUT,\n",
        "                                LSTM_DROPOUT, elmo=predict_elmo, attention=predict_attention)\n",
        "\n",
        "    sess = K.get_session()\n",
        "    init = tf.global_variables_initializer()\n",
        "    sess.run(init)\n",
        "    print(\"load weights\")\n",
        "    # load the weights\n",
        "    #model.load_weights(os.path.join(resources_path, \"weights.hdf5\"))\n",
        "    model.load_weights(weights_file)\n",
        "\n",
        "    print(\"predict the test\")\n",
        "    # predict from the test\n",
        "    result = dict()\n",
        "    num_words = 0\n",
        "    num_mfs = 0\n",
        "\n",
        "    # for each sentence\n",
        "    for i in tqdm(range(len(test_x_tokenized))):\n",
        "\n",
        "        # produce the probability matrix of predict\n",
        "        pred_matrix = model.predict(test_x_tokenized[i])\n",
        "\n",
        "        # take the indices of the instances of the sentence\n",
        "        for word in test_x[i]:\n",
        "            splitted = word.split(\"|\")\n",
        "            # only instances have splitted length major of 1\n",
        "            if len(splitted) > 1:\n",
        "                w = splitted[0]\n",
        "                id = splitted[1]\n",
        "                index = splitted[2]\n",
        "                lemma = splitted[3]\n",
        "                pos = splitted[4]\n",
        "                \n",
        "                if pos == 'NOUN':\n",
        "                  pos = 'n'\n",
        "                elif pos == 'VERB':\n",
        "                  pos = 'v'\n",
        "                elif pos == 'ADJ':\n",
        "                  pos = 'a'\n",
        "                elif pos == 'ADV':\n",
        "                  pos = 'r'\n",
        "                \n",
        "                num_words += 1\n",
        "\n",
        "                list_synsets = return_all_synsets_from_lemma(lemma, output_bn_vocab)\n",
        "                if len(list_synsets) == 0:\n",
        "                    synset = par.mfs(lemma,pos, w2b_map)\n",
        "                    if synset in b2lex:\n",
        "                        result[id] = b2lex[synset]\n",
        "                        num_mfs += 1\n",
        "                    else:\n",
        "                        result[id] = \"adj.all\"\n",
        "                    continue\n",
        "                '''x\n",
        "                # if there aren't synsets, in the mode case 'bn', return the mfs of the lemma\n",
        "                if len(list_indices_vocab) == 0:\n",
        "                    synset = mfs(lemma, w2b_map)\n",
        "                    result[id] = synset\n",
        "                    num_mfs += 1\n",
        "                     '''\n",
        "                list_indices_vocab = return_sense_indices_of_vocab(list_synsets, b2lex, output_lex_vocab,mode='lex')\n",
        "                if len(list_indices_vocab) == 0:\n",
        "                    synset = par.mfs(lemma,pos, w2b_map)\n",
        "                    if synset in b2lex:\n",
        "                        result[id] = b2lex[synset]\n",
        "                        num_mfs += 1\n",
        "                    else:\n",
        "                        result[id] = \"adj.all\"\n",
        "                    continue\n",
        "                list_argmax = []\n",
        "                # take the values that interest for the argmax value\n",
        "                for val in list_indices_vocab:\n",
        "                    if not predict_elmo:\n",
        "                        list_argmax.append(pred_matrix[2][int(index)][0][val])\n",
        "                    else:\n",
        "                        list_argmax.append(pred_matrix[2][0][int(index)][val])\n",
        "                # compute argmax for specific word\n",
        "                argmax = np.argmax(list_argmax)\n",
        "                # obtain the correspettive synset\n",
        "                synset = reverse_output_lex_vocab[list_indices_vocab[argmax]]\n",
        "                result[id] = synset\n",
        "    print(\"MFS SU TOT WORDS: \", num_mfs, \" / \", num_words)\n",
        "\n",
        "    print(\"write result on file\")\n",
        "    # HERE WRITE THE RESULT ON THE OUTPUT PATH\n",
        "    write_result_on_file(output_path, result)\n",
        "    print(\"create file in:\", output_path)\n",
        "    print(\"Done!\")"
      ],
      "execution_count": 0,
      "outputs": []
    },
    {
      "cell_type": "code",
      "metadata": {
        "id": "F1xM4--eSS8L",
        "colab_type": "code",
        "colab": {}
      },
      "source": [
        "def predict_MFS(input_path,output_path,resources_path,bn2sense_map,mode='bn'):\n",
        "  \n",
        "  print(\"PREDICT MFS BN!\")\n",
        "  test_x, test_x_tokenized,vocab_input_data, vocab_bn_labels, output_bn_vocab,output_dom_vocab,output_lex_vocab, reverse_output_bn_vocab, w2b_map = \\\n",
        "        preprocess_for_predict(input_path,resources_path,mode='bn')\n",
        "\n",
        "\n",
        "\n",
        "  print(\"predict the test\")\n",
        "  # predict from the test\n",
        "  result = dict()\n",
        "  num_words = 0\n",
        "  num_mfs = 0\n",
        "\n",
        "  # for each sentence\n",
        "  for sentence in test_x:\n",
        "      \n",
        "    # take the indices of the instances of the sentence\n",
        "    for word in sentence:\n",
        "        splitted = word.split(\"|\")\n",
        "        # only instances have splitted length major of 1\n",
        "        if len(splitted) > 1:\n",
        "            w = splitted[0]\n",
        "            id = splitted[1]\n",
        "            index = splitted[2]\n",
        "            lemma = splitted[3]\n",
        "            pos = splitted[4]\n",
        "            \n",
        "            if pos == 'NOUN':\n",
        "              pos = 'n'\n",
        "            elif pos == 'VERB':\n",
        "              pos = 'v'\n",
        "            elif pos == 'ADJ':\n",
        "              pos = 'a'\n",
        "            elif pos == 'ADV':\n",
        "              pos = 'r'\n",
        "                  \n",
        "            num_words += 1\n",
        "\n",
        "            \n",
        "            synset = par.mfs(lemma,pos, w2b_map)\n",
        "            if synset is None:\n",
        "              if mode == 'bn':\n",
        "                result[id] = None\n",
        "              elif mode == 'dom':\n",
        "                result[id] = 'factotum'\n",
        "              elif mode == 'lex':\n",
        "                result[id] = 'adj.all'\n",
        "            else:\n",
        "              num_mfs+=1\n",
        "              if mode == 'bn':\n",
        "                result[id] = synset\n",
        "              elif mode == 'dom':\n",
        "                if synset in bn2sense_map:\n",
        "                  result[id] = bn2sense_map[synset]\n",
        "                else:\n",
        "                  result[id] = 'factotum'\n",
        "              elif mode == 'lex':\n",
        "                if synset in bn2sense_map:\n",
        "                  result[id] = bn2sense_map[synset]\n",
        "                else:\n",
        "                  result[id] = 'adj.all'\n",
        "           \n",
        "  print(\"MFS SU TOT WORDS: \", num_mfs, \" / \", num_words)\n",
        "\n",
        "  print(\"write result on file\")\n",
        "  # HERE WRITE THE RESULT ON THE OUTPUT PATH\n",
        "  write_result_on_file(output_path, result)\n",
        "  print(\"create file in:\", output_path)\n",
        "  print(\"Done!\")\n"
      ],
      "execution_count": 0,
      "outputs": []
    },
    {
      "cell_type": "code",
      "metadata": {
        "id": "aTxdxggbFW94",
        "colab_type": "code",
        "colab": {}
      },
      "source": [
        "def predict_on_all():\n",
        "    resources_path = \"training_on_colab/\"\n",
        "    dataset_names = [\"ALL\",\"semeval2007\",\"semeval2013\",\"semeval2015\",\"senseval2\",\"senseval3\"]\n",
        "    #dataset_names = [\"ALL\",\"semeval2007\",\"semeval2013\"]\n",
        "    b2dom, dom2b = par.create_maps_from_tsv(resources_path + gp.b2wn_domains_map_path)\n",
        "    b2lex, lex2b = par.create_maps_from_tsv(resources_path + gp.b2lexnames_map_path)\n",
        "    for name in dataset_names:\n",
        "        print(\"predict on dataset \"+name+\".data.xml ...\")\n",
        "        \n",
        "        predict_babelnet(resources_path + gp.test_dir + name+\".data.xml\",\n",
        "                         gp.output_dir+name+\".babelnet.output.txt\",\n",
        "                         resources_path)\n",
        "       \n",
        "        \n",
        "        predict_wordnet_domains(resources_path + gp.test_dir + name+\".data.xml\",\n",
        "                                gp.output_dir+name+\".wndomains.output.txt\",\n",
        "                                resources_path)\n",
        "\n",
        "        predict_lexicographer(resources_path + gp.test_dir + name+\".data.xml\",\n",
        "                              gp.output_dir+name+\".lexnames.output.txt\",\n",
        "                              resources_path)\n",
        "        predict_MFS(resources_path + gp.test_dir + name+\".data.xml\",\n",
        "                              gp.output_dir+name+\".bn.mfs.output.txt\",\n",
        "                              resources_path,None,mode='bn')\n",
        "        predict_MFS(resources_path + gp.test_dir + name+\".data.xml\",\n",
        "                              gp.output_dir+name+\".dom.mfs.output.txt\",\n",
        "                              resources_path,b2dom,mode='dom')\n",
        "        predict_MFS(resources_path + gp.test_dir + name+\".data.xml\",\n",
        "                              gp.output_dir+name+\".lex.mfs.output.txt\",\n",
        "                              resources_path,b2lex,mode='lex')\n",
        "        \n",
        "        \n",
        "        print(\"Done!\")\n"
      ],
      "execution_count": 0,
      "outputs": []
    },
    {
      "cell_type": "code",
      "metadata": {
        "id": "tlTcGZQLFlm-",
        "colab_type": "code",
        "outputId": "3aeec884-5385-48e8-eddd-38f0af1bd7cc",
        "colab": {
          "base_uri": "https://localhost:8080/",
          "height": 1000
        }
      },
      "source": [
        "#COMPUTE THE PREDICT ON ALL THE FILE XML\n",
        "predict_on_all()"
      ],
      "execution_count": 0,
      "outputs": [
        {
          "output_type": "stream",
          "text": [
            "92601it [00:00, 620152.81it/s]\n",
            "117653it [00:00, 744613.43it/s]\n",
            "37176it [00:00, 207809.88it/s]\n",
            "0it [00:00, ?it/s]"
          ],
          "name": "stderr"
        },
        {
          "output_type": "stream",
          "text": [
            "predict on dataset ALL.data.xml ...\n",
            "PREDICT BABELNET!\n",
            "load data and clean it to make vocabs\n"
          ],
          "name": "stdout"
        },
        {
          "output_type": "stream",
          "text": [
            "37176it [00:00, 196456.65it/s]\n",
            "92601it [00:00, 765467.63it/s]\n",
            "117653it [00:00, 772502.76it/s]\n",
            "117659it [00:00, 642044.16it/s]\n",
            "0it [00:00, ?it/s]"
          ],
          "name": "stderr"
        },
        {
          "output_type": "stream",
          "text": [
            "create wordnet to babelnet mapping\n",
            "load input test\n"
          ],
          "name": "stdout"
        },
        {
          "output_type": "stream",
          "text": [
            "53406it [00:00, 420866.23it/s]\n"
          ],
          "name": "stderr"
        },
        {
          "output_type": "stream",
          "text": [
            "numero di instances  7253\n",
            "create vocabs\n",
            "tokenize test data\n",
            "build model\n",
            "Creating 2 BLSTM multitask\n",
            "load weights\n"
          ],
          "name": "stdout"
        },
        {
          "output_type": "stream",
          "text": [
            "\r  0%|          | 0/1173 [00:00<?, ?it/s]"
          ],
          "name": "stderr"
        },
        {
          "output_type": "stream",
          "text": [
            "predict the test\n"
          ],
          "name": "stdout"
        },
        {
          "output_type": "stream",
          "text": [
            "100%|██████████| 1173/1173 [00:51<00:00, 22.94it/s]\n",
            "37176it [00:00, 236867.41it/s]\n",
            "0it [00:00, ?it/s]"
          ],
          "name": "stderr"
        },
        {
          "output_type": "stream",
          "text": [
            "mfs:  1540  /  7253\n",
            "write result on file\n",
            "create file in: output/ALL.babelnet.output.txt\n",
            "Done!\n",
            "PREDICT WORDNET DOMAINS!\n",
            "load data and clean it to make vocabs\n"
          ],
          "name": "stdout"
        },
        {
          "output_type": "stream",
          "text": [
            "37176it [00:00, 174756.20it/s]\n",
            "92601it [00:00, 776486.00it/s]\n",
            "117653it [00:00, 722418.40it/s]\n",
            "117659it [00:00, 773810.45it/s]\n",
            "0it [00:00, ?it/s]"
          ],
          "name": "stderr"
        },
        {
          "output_type": "stream",
          "text": [
            "create wordnet to babelnet mapping\n",
            "load input test\n"
          ],
          "name": "stdout"
        },
        {
          "output_type": "stream",
          "text": [
            "53406it [00:00, 450184.49it/s]\n"
          ],
          "name": "stderr"
        },
        {
          "output_type": "stream",
          "text": [
            "numero di instances  7253\n",
            "create vocabs\n",
            "tokenize test data\n",
            "build model\n",
            "Creating 2 BLSTM multitask\n",
            "load weights\n"
          ],
          "name": "stdout"
        },
        {
          "output_type": "stream",
          "text": [
            "\r  0%|          | 0/1173 [00:00<?, ?it/s]"
          ],
          "name": "stderr"
        },
        {
          "output_type": "stream",
          "text": [
            "predict the test\n"
          ],
          "name": "stdout"
        },
        {
          "output_type": "stream",
          "text": [
            "100%|██████████| 1173/1173 [00:51<00:00, 20.10it/s]\n",
            "20094it [00:00, 200935.40it/s]"
          ],
          "name": "stderr"
        },
        {
          "output_type": "stream",
          "text": [
            "MFS SU TOT WORDS:  1254  /  7253\n",
            "write result on file\n",
            "create file in: output/ALL.wndomains.output.txt\n",
            "Done!\n",
            "PREDICT LEXNAMES!\n",
            "load data and clean it to make vocabs\n"
          ],
          "name": "stdout"
        },
        {
          "output_type": "stream",
          "text": [
            "37176it [00:00, 134134.48it/s]\n",
            "37176it [00:00, 192451.46it/s]\n",
            "92601it [00:00, 721700.33it/s]\n",
            "117653it [00:00, 761202.64it/s]\n",
            "117659it [00:00, 656439.74it/s]\n",
            "0it [00:00, ?it/s]"
          ],
          "name": "stderr"
        },
        {
          "output_type": "stream",
          "text": [
            "create wordnet to babelnet mapping\n",
            "load input test\n"
          ],
          "name": "stdout"
        },
        {
          "output_type": "stream",
          "text": [
            "53406it [00:00, 420854.37it/s]\n"
          ],
          "name": "stderr"
        },
        {
          "output_type": "stream",
          "text": [
            "numero di instances  7253\n",
            "create vocabs\n",
            "tokenize test data\n",
            "build model\n",
            "Creating 2 BLSTM multitask\n",
            "load weights\n"
          ],
          "name": "stdout"
        },
        {
          "output_type": "stream",
          "text": [
            "\r  0%|          | 0/1173 [00:00<?, ?it/s]"
          ],
          "name": "stderr"
        },
        {
          "output_type": "stream",
          "text": [
            "predict the test\n"
          ],
          "name": "stdout"
        },
        {
          "output_type": "stream",
          "text": [
            "100%|██████████| 1173/1173 [00:47<00:00, 24.46it/s]\n",
            "37176it [00:00, 215968.08it/s]\n",
            "0it [00:00, ?it/s]"
          ],
          "name": "stderr"
        },
        {
          "output_type": "stream",
          "text": [
            "MFS SU TOT WORDS:  1540  /  7253\n",
            "write result on file\n",
            "create file in: output/ALL.lexnames.output.txt\n",
            "Done!\n",
            "PREDICT MFS BN!\n",
            "load data and clean it to make vocabs\n"
          ],
          "name": "stdout"
        },
        {
          "output_type": "stream",
          "text": [
            "37176it [00:00, 201393.16it/s]\n",
            "92601it [00:00, 761877.45it/s]\n",
            "117653it [00:00, 784715.79it/s]\n",
            "117659it [00:00, 740243.83it/s]\n",
            "0it [00:00, ?it/s]"
          ],
          "name": "stderr"
        },
        {
          "output_type": "stream",
          "text": [
            "create wordnet to babelnet mapping\n",
            "load input test\n"
          ],
          "name": "stdout"
        },
        {
          "output_type": "stream",
          "text": [
            "53406it [00:00, 395673.40it/s]\n"
          ],
          "name": "stderr"
        },
        {
          "output_type": "stream",
          "text": [
            "numero di instances  7253\n",
            "create vocabs\n",
            "tokenize test data\n",
            "predict the test\n"
          ],
          "name": "stdout"
        },
        {
          "output_type": "stream",
          "text": [
            "\r0it [00:00, ?it/s]"
          ],
          "name": "stderr"
        },
        {
          "output_type": "stream",
          "text": [
            "MFS SU TOT WORDS:  7253  /  7253\n",
            "write result on file\n",
            "create file in: output/ALL.bn.mfs.output.txt\n",
            "Done!\n",
            "PREDICT MFS BN!\n",
            "load data and clean it to make vocabs\n"
          ],
          "name": "stdout"
        },
        {
          "output_type": "stream",
          "text": [
            "37176it [00:00, 39579.82it/s]\n",
            "37176it [00:00, 166243.17it/s]\n",
            "92601it [00:00, 681353.57it/s]\n",
            "117653it [00:00, 768085.17it/s]\n",
            "117659it [00:00, 686437.29it/s]\n",
            "0it [00:00, ?it/s]"
          ],
          "name": "stderr"
        },
        {
          "output_type": "stream",
          "text": [
            "create wordnet to babelnet mapping\n",
            "load input test\n"
          ],
          "name": "stdout"
        },
        {
          "output_type": "stream",
          "text": [
            "53406it [00:00, 426409.48it/s]\n"
          ],
          "name": "stderr"
        },
        {
          "output_type": "stream",
          "text": [
            "numero di instances  7253\n",
            "create vocabs\n"
          ],
          "name": "stdout"
        },
        {
          "output_type": "stream",
          "text": [
            "\r0it [00:00, ?it/s]"
          ],
          "name": "stderr"
        },
        {
          "output_type": "stream",
          "text": [
            "tokenize test data\n",
            "predict the test\n",
            "MFS SU TOT WORDS:  7253  /  7253\n",
            "write result on file\n",
            "create file in: output/ALL.dom.mfs.output.txt\n",
            "Done!\n",
            "PREDICT MFS BN!\n",
            "load data and clean it to make vocabs\n"
          ],
          "name": "stdout"
        },
        {
          "output_type": "stream",
          "text": [
            "37176it [00:00, 232628.92it/s]\n",
            "37176it [00:00, 204502.79it/s]\n",
            "92601it [00:00, 742997.50it/s]\n",
            "117653it [00:00, 776296.77it/s]\n",
            "117659it [00:00, 667584.22it/s]\n",
            "0it [00:00, ?it/s]"
          ],
          "name": "stderr"
        },
        {
          "output_type": "stream",
          "text": [
            "create wordnet to babelnet mapping\n",
            "load input test\n"
          ],
          "name": "stdout"
        },
        {
          "output_type": "stream",
          "text": [
            "53406it [00:00, 398386.89it/s]\n"
          ],
          "name": "stderr"
        },
        {
          "output_type": "stream",
          "text": [
            "numero di instances  7253\n",
            "create vocabs\n"
          ],
          "name": "stdout"
        },
        {
          "output_type": "stream",
          "text": [
            "\r0it [00:00, ?it/s]"
          ],
          "name": "stderr"
        },
        {
          "output_type": "stream",
          "text": [
            "tokenize test data\n",
            "predict the test\n",
            "MFS SU TOT WORDS:  7253  /  7253\n",
            "write result on file\n",
            "create file in: output/ALL.lex.mfs.output.txt\n",
            "Done!\n",
            "Done!\n",
            "predict on dataset semeval2007.data.xml ...\n",
            "PREDICT BABELNET!\n",
            "load data and clean it to make vocabs\n"
          ],
          "name": "stdout"
        },
        {
          "output_type": "stream",
          "text": [
            "37176it [00:00, 219166.06it/s]\n",
            "37176it [00:00, 181931.03it/s]\n",
            "92601it [00:00, 693951.01it/s]\n",
            "117653it [00:00, 749196.41it/s]\n",
            "117659it [00:00, 665739.82it/s]\n",
            "0it [00:00, ?it/s]"
          ],
          "name": "stderr"
        },
        {
          "output_type": "stream",
          "text": [
            "create wordnet to babelnet mapping\n",
            "load input test\n"
          ],
          "name": "stdout"
        },
        {
          "output_type": "stream",
          "text": [
            "\r6680it [00:00, 260133.61it/s]\n"
          ],
          "name": "stderr"
        },
        {
          "output_type": "stream",
          "text": [
            "numero di instances  455\n",
            "create vocabs\n",
            "tokenize test data\n",
            "build model\n",
            "Creating 2 BLSTM multitask\n",
            "load weights\n"
          ],
          "name": "stdout"
        },
        {
          "output_type": "stream",
          "text": [
            "\r  0%|          | 0/135 [00:00<?, ?it/s]"
          ],
          "name": "stderr"
        },
        {
          "output_type": "stream",
          "text": [
            "predict the test\n"
          ],
          "name": "stdout"
        },
        {
          "output_type": "stream",
          "text": [
            "100%|██████████| 135/135 [00:06<00:00, 19.84it/s]\n",
            "37176it [00:00, 227029.43it/s]\n",
            "0it [00:00, ?it/s]"
          ],
          "name": "stderr"
        },
        {
          "output_type": "stream",
          "text": [
            "mfs:  78  /  455\n",
            "write result on file\n",
            "create file in: output/semeval2007.babelnet.output.txt\n",
            "Done!\n",
            "PREDICT WORDNET DOMAINS!\n",
            "load data and clean it to make vocabs\n"
          ],
          "name": "stdout"
        },
        {
          "output_type": "stream",
          "text": [
            "37176it [00:00, 194675.94it/s]\n",
            "92601it [00:00, 742189.64it/s]\n",
            "117653it [00:00, 786361.40it/s]\n",
            "117659it [00:00, 624705.83it/s]\n",
            "0it [00:00, ?it/s]"
          ],
          "name": "stderr"
        },
        {
          "output_type": "stream",
          "text": [
            "create wordnet to babelnet mapping\n",
            "load input test\n"
          ],
          "name": "stdout"
        },
        {
          "output_type": "stream",
          "text": [
            "\r6680it [00:00, 300267.40it/s]\n"
          ],
          "name": "stderr"
        },
        {
          "output_type": "stream",
          "text": [
            "numero di instances  455\n",
            "create vocabs\n",
            "tokenize test data\n",
            "build model\n",
            "Creating 2 BLSTM multitask\n",
            "load weights\n"
          ],
          "name": "stdout"
        },
        {
          "output_type": "stream",
          "text": [
            "\r  0%|          | 0/135 [00:00<?, ?it/s]"
          ],
          "name": "stderr"
        },
        {
          "output_type": "stream",
          "text": [
            "predict the test\n"
          ],
          "name": "stdout"
        },
        {
          "output_type": "stream",
          "text": [
            "100%|██████████| 135/135 [00:06<00:00, 29.60it/s]\n",
            "37176it [00:00, 212729.09it/s]\n",
            "0it [00:00, ?it/s]"
          ],
          "name": "stderr"
        },
        {
          "output_type": "stream",
          "text": [
            "MFS SU TOT WORDS:  77  /  455\n",
            "write result on file\n",
            "create file in: output/semeval2007.wndomains.output.txt\n",
            "Done!\n",
            "PREDICT LEXNAMES!\n",
            "load data and clean it to make vocabs\n"
          ],
          "name": "stdout"
        },
        {
          "output_type": "stream",
          "text": [
            "37176it [00:00, 201929.90it/s]\n",
            "92601it [00:00, 697319.94it/s]\n",
            "117653it [00:00, 744087.98it/s]\n",
            "61135it [00:00, 611346.21it/s]"
          ],
          "name": "stderr"
        },
        {
          "output_type": "stream",
          "text": [
            "create wordnet to babelnet mapping\n"
          ],
          "name": "stdout"
        },
        {
          "output_type": "stream",
          "text": [
            "117659it [00:00, 527392.05it/s]\n",
            "6680it [00:00, 249194.65it/s]\n"
          ],
          "name": "stderr"
        },
        {
          "output_type": "stream",
          "text": [
            "load input test\n",
            "numero di instances  455\n",
            "create vocabs\n",
            "tokenize test data\n",
            "build model\n",
            "Creating 2 BLSTM multitask\n",
            "load weights\n"
          ],
          "name": "stdout"
        },
        {
          "output_type": "stream",
          "text": [
            "\r  0%|          | 0/135 [00:00<?, ?it/s]"
          ],
          "name": "stderr"
        },
        {
          "output_type": "stream",
          "text": [
            "predict the test\n"
          ],
          "name": "stdout"
        },
        {
          "output_type": "stream",
          "text": [
            "100%|██████████| 135/135 [00:06<00:00, 20.47it/s]\n",
            "37176it [00:00, 241562.22it/s]\n",
            "0it [00:00, ?it/s]"
          ],
          "name": "stderr"
        },
        {
          "output_type": "stream",
          "text": [
            "MFS SU TOT WORDS:  78  /  455\n",
            "write result on file\n",
            "create file in: output/semeval2007.lexnames.output.txt\n",
            "Done!\n",
            "PREDICT MFS BN!\n",
            "load data and clean it to make vocabs\n"
          ],
          "name": "stdout"
        },
        {
          "output_type": "stream",
          "text": [
            "37176it [00:00, 188069.23it/s]\n",
            "92601it [00:00, 674206.26it/s]\n",
            "117653it [00:00, 761174.46it/s]\n",
            "117659it [00:00, 644099.72it/s]\n",
            "0it [00:00, ?it/s]"
          ],
          "name": "stderr"
        },
        {
          "output_type": "stream",
          "text": [
            "create wordnet to babelnet mapping\n",
            "load input test\n"
          ],
          "name": "stdout"
        },
        {
          "output_type": "stream",
          "text": [
            "\r6680it [00:00, 311144.62it/s]\n"
          ],
          "name": "stderr"
        },
        {
          "output_type": "stream",
          "text": [
            "numero di instances  455\n",
            "create vocabs\n"
          ],
          "name": "stdout"
        },
        {
          "output_type": "stream",
          "text": [
            "19576it [00:00, 195752.25it/s]"
          ],
          "name": "stderr"
        },
        {
          "output_type": "stream",
          "text": [
            "tokenize test data\n",
            "predict the test\n",
            "MFS SU TOT WORDS:  455  /  455\n",
            "write result on file\n",
            "create file in: output/semeval2007.bn.mfs.output.txt\n",
            "Done!\n",
            "PREDICT MFS BN!\n",
            "load data and clean it to make vocabs\n"
          ],
          "name": "stdout"
        },
        {
          "output_type": "stream",
          "text": [
            "37176it [00:00, 194664.52it/s]\n",
            "37176it [00:00, 177993.47it/s]\n",
            "92601it [00:00, 720507.45it/s]\n",
            "117653it [00:00, 760679.31it/s]\n",
            "117659it [00:00, 653478.23it/s]\n",
            "0it [00:00, ?it/s]"
          ],
          "name": "stderr"
        },
        {
          "output_type": "stream",
          "text": [
            "create wordnet to babelnet mapping\n",
            "load input test\n"
          ],
          "name": "stdout"
        },
        {
          "output_type": "stream",
          "text": [
            "\r6680it [00:00, 348846.44it/s]\n"
          ],
          "name": "stderr"
        },
        {
          "output_type": "stream",
          "text": [
            "numero di instances  455\n",
            "create vocabs\n"
          ],
          "name": "stdout"
        },
        {
          "output_type": "stream",
          "text": [
            "37176it [00:00, 223528.50it/s]\n",
            "0it [00:00, ?it/s]"
          ],
          "name": "stderr"
        },
        {
          "output_type": "stream",
          "text": [
            "tokenize test data\n",
            "predict the test\n",
            "MFS SU TOT WORDS:  455  /  455\n",
            "write result on file\n",
            "create file in: output/semeval2007.dom.mfs.output.txt\n",
            "Done!\n",
            "PREDICT MFS BN!\n",
            "load data and clean it to make vocabs\n"
          ],
          "name": "stdout"
        },
        {
          "output_type": "stream",
          "text": [
            "37176it [00:00, 180418.75it/s]\n",
            "92601it [00:00, 756031.36it/s]\n",
            "117653it [00:00, 792179.62it/s]\n",
            "117659it [00:00, 632643.02it/s]\n",
            "0it [00:00, ?it/s]"
          ],
          "name": "stderr"
        },
        {
          "output_type": "stream",
          "text": [
            "create wordnet to babelnet mapping\n",
            "load input test\n"
          ],
          "name": "stdout"
        },
        {
          "output_type": "stream",
          "text": [
            "\r6680it [00:00, 369976.50it/s]\n"
          ],
          "name": "stderr"
        },
        {
          "output_type": "stream",
          "text": [
            "numero di instances  455\n",
            "create vocabs\n"
          ],
          "name": "stdout"
        },
        {
          "output_type": "stream",
          "text": [
            "37176it [00:00, 221415.20it/s]"
          ],
          "name": "stderr"
        },
        {
          "output_type": "stream",
          "text": [
            "tokenize test data\n",
            "predict the test\n",
            "MFS SU TOT WORDS:  455  /  455\n",
            "write result on file\n",
            "create file in: output/semeval2007.lex.mfs.output.txt\n",
            "Done!\n",
            "Done!\n",
            "predict on dataset semeval2013.data.xml ...\n",
            "PREDICT BABELNET!\n",
            "load data and clean it to make vocabs\n"
          ],
          "name": "stdout"
        },
        {
          "output_type": "stream",
          "text": [
            "\n",
            "37176it [00:00, 192767.66it/s]\n",
            "92601it [00:00, 639152.09it/s]\n",
            "117653it [00:00, 812222.78it/s]\n",
            "117659it [00:00, 722109.56it/s]\n",
            "0it [00:00, ?it/s]"
          ],
          "name": "stderr"
        },
        {
          "output_type": "stream",
          "text": [
            "create wordnet to babelnet mapping\n",
            "load input test\n"
          ],
          "name": "stdout"
        },
        {
          "output_type": "stream",
          "text": [
            "\r17422it [00:00, 394038.00it/s]\n"
          ],
          "name": "stderr"
        },
        {
          "output_type": "stream",
          "text": [
            "numero di instances  1644\n",
            "create vocabs\n",
            "tokenize test data\n",
            "build model\n",
            "Creating 2 BLSTM multitask\n",
            "load weights\n"
          ],
          "name": "stdout"
        },
        {
          "output_type": "stream",
          "text": [
            "\r  0%|          | 0/306 [00:00<?, ?it/s]"
          ],
          "name": "stderr"
        },
        {
          "output_type": "stream",
          "text": [
            "predict the test\n"
          ],
          "name": "stdout"
        },
        {
          "output_type": "stream",
          "text": [
            "100%|██████████| 306/306 [00:15<00:00, 19.25it/s]\n",
            "37176it [00:00, 214869.92it/s]\n",
            "0it [00:00, ?it/s]"
          ],
          "name": "stderr"
        },
        {
          "output_type": "stream",
          "text": [
            "mfs:  460  /  1644\n",
            "write result on file\n",
            "create file in: output/semeval2013.babelnet.output.txt\n",
            "Done!\n",
            "PREDICT WORDNET DOMAINS!\n",
            "load data and clean it to make vocabs\n"
          ],
          "name": "stdout"
        },
        {
          "output_type": "stream",
          "text": [
            "37176it [00:00, 180385.56it/s]\n",
            "92601it [00:00, 746817.72it/s]\n",
            "117653it [00:00, 746018.29it/s]\n",
            "117659it [00:00, 646039.91it/s]\n",
            "0it [00:00, ?it/s]"
          ],
          "name": "stderr"
        },
        {
          "output_type": "stream",
          "text": [
            "create wordnet to babelnet mapping\n",
            "load input test\n"
          ],
          "name": "stdout"
        },
        {
          "output_type": "stream",
          "text": [
            "\r17422it [00:00, 379553.53it/s]\n"
          ],
          "name": "stderr"
        },
        {
          "output_type": "stream",
          "text": [
            "numero di instances  1644\n",
            "create vocabs\n",
            "tokenize test data\n",
            "build model\n",
            "Creating 2 BLSTM multitask\n",
            "load weights\n"
          ],
          "name": "stdout"
        },
        {
          "output_type": "stream",
          "text": [
            "\r  0%|          | 0/306 [00:00<?, ?it/s]"
          ],
          "name": "stderr"
        },
        {
          "output_type": "stream",
          "text": [
            "predict the test\n"
          ],
          "name": "stdout"
        },
        {
          "output_type": "stream",
          "text": [
            "100%|██████████| 306/306 [00:15<00:00, 19.87it/s]\n",
            "37176it [00:00, 200789.17it/s]\n",
            "0it [00:00, ?it/s]"
          ],
          "name": "stderr"
        },
        {
          "output_type": "stream",
          "text": [
            "MFS SU TOT WORDS:  454  /  1644\n",
            "write result on file\n",
            "create file in: output/semeval2013.wndomains.output.txt\n",
            "Done!\n",
            "PREDICT LEXNAMES!\n",
            "load data and clean it to make vocabs\n"
          ],
          "name": "stdout"
        },
        {
          "output_type": "stream",
          "text": [
            "37176it [00:00, 166361.65it/s]\n",
            "92601it [00:00, 746113.31it/s]\n",
            "117653it [00:00, 760089.97it/s]\n",
            "117659it [00:00, 665604.23it/s]\n",
            "0it [00:00, ?it/s]"
          ],
          "name": "stderr"
        },
        {
          "output_type": "stream",
          "text": [
            "create wordnet to babelnet mapping\n",
            "load input test\n"
          ],
          "name": "stdout"
        },
        {
          "output_type": "stream",
          "text": [
            "\r17422it [00:00, 375213.29it/s]\n"
          ],
          "name": "stderr"
        },
        {
          "output_type": "stream",
          "text": [
            "numero di instances  1644\n",
            "create vocabs\n",
            "tokenize test data\n",
            "build model\n",
            "Creating 2 BLSTM multitask\n",
            "load weights\n"
          ],
          "name": "stdout"
        },
        {
          "output_type": "stream",
          "text": [
            "\r  0%|          | 0/306 [00:00<?, ?it/s]"
          ],
          "name": "stderr"
        },
        {
          "output_type": "stream",
          "text": [
            "predict the test\n"
          ],
          "name": "stdout"
        },
        {
          "output_type": "stream",
          "text": [
            "100%|██████████| 306/306 [00:14<00:00, 21.46it/s]\n",
            "37176it [00:00, 217260.83it/s]\n",
            "0it [00:00, ?it/s]"
          ],
          "name": "stderr"
        },
        {
          "output_type": "stream",
          "text": [
            "MFS SU TOT WORDS:  460  /  1644\n",
            "write result on file\n",
            "create file in: output/semeval2013.lexnames.output.txt\n",
            "Done!\n",
            "PREDICT MFS BN!\n",
            "load data and clean it to make vocabs\n"
          ],
          "name": "stdout"
        },
        {
          "output_type": "stream",
          "text": [
            "37176it [00:00, 171187.62it/s]\n",
            "92601it [00:00, 733300.00it/s]\n",
            "117653it [00:00, 750196.41it/s]\n",
            "117659it [00:00, 622150.18it/s]\n",
            "0it [00:00, ?it/s]"
          ],
          "name": "stderr"
        },
        {
          "output_type": "stream",
          "text": [
            "create wordnet to babelnet mapping\n",
            "load input test\n"
          ],
          "name": "stdout"
        },
        {
          "output_type": "stream",
          "text": [
            "\r17422it [00:00, 376376.72it/s]\n"
          ],
          "name": "stderr"
        },
        {
          "output_type": "stream",
          "text": [
            "numero di instances  1644\n",
            "create vocabs\n"
          ],
          "name": "stdout"
        },
        {
          "output_type": "stream",
          "text": [
            "23686it [00:00, 236858.53it/s]"
          ],
          "name": "stderr"
        },
        {
          "output_type": "stream",
          "text": [
            "tokenize test data\n",
            "predict the test\n",
            "MFS SU TOT WORDS:  1644  /  1644\n",
            "write result on file\n",
            "create file in: output/semeval2013.bn.mfs.output.txt\n",
            "Done!\n",
            "PREDICT MFS BN!\n",
            "load data and clean it to make vocabs\n"
          ],
          "name": "stdout"
        },
        {
          "output_type": "stream",
          "text": [
            "37176it [00:00, 215393.50it/s]\n",
            "37176it [00:00, 201108.99it/s]\n",
            "92601it [00:00, 675818.15it/s]\n",
            "117653it [00:00, 765865.55it/s]\n",
            "117659it [00:00, 633147.88it/s]\n",
            "0it [00:00, ?it/s]"
          ],
          "name": "stderr"
        },
        {
          "output_type": "stream",
          "text": [
            "create wordnet to babelnet mapping\n",
            "load input test\n"
          ],
          "name": "stdout"
        },
        {
          "output_type": "stream",
          "text": [
            "\r17422it [00:00, 386146.28it/s]\n"
          ],
          "name": "stderr"
        },
        {
          "output_type": "stream",
          "text": [
            "numero di instances  1644\n",
            "create vocabs\n"
          ],
          "name": "stdout"
        },
        {
          "output_type": "stream",
          "text": [
            "20330it [00:00, 203069.25it/s]"
          ],
          "name": "stderr"
        },
        {
          "output_type": "stream",
          "text": [
            "tokenize test data\n",
            "predict the test\n",
            "MFS SU TOT WORDS:  1644  /  1644\n",
            "write result on file\n",
            "create file in: output/semeval2013.dom.mfs.output.txt\n",
            "Done!\n",
            "PREDICT MFS BN!\n",
            "load data and clean it to make vocabs\n"
          ],
          "name": "stdout"
        },
        {
          "output_type": "stream",
          "text": [
            "37176it [00:00, 197323.31it/s]\n",
            "37176it [00:00, 189007.78it/s]\n",
            "92601it [00:00, 786486.14it/s]\n",
            "117653it [00:00, 787337.52it/s]\n",
            "117659it [00:00, 671302.94it/s]\n",
            "0it [00:00, ?it/s]"
          ],
          "name": "stderr"
        },
        {
          "output_type": "stream",
          "text": [
            "create wordnet to babelnet mapping\n",
            "load input test\n"
          ],
          "name": "stdout"
        },
        {
          "output_type": "stream",
          "text": [
            "\r17422it [00:00, 393501.15it/s]\n"
          ],
          "name": "stderr"
        },
        {
          "output_type": "stream",
          "text": [
            "numero di instances  1644\n",
            "create vocabs\n"
          ],
          "name": "stdout"
        },
        {
          "output_type": "stream",
          "text": [
            "\r0it [00:00, ?it/s]"
          ],
          "name": "stderr"
        },
        {
          "output_type": "stream",
          "text": [
            "tokenize test data\n",
            "predict the test\n",
            "MFS SU TOT WORDS:  1644  /  1644\n",
            "write result on file\n",
            "create file in: output/semeval2013.lex.mfs.output.txt\n",
            "Done!\n",
            "Done!\n",
            "predict on dataset semeval2015.data.xml ...\n",
            "PREDICT BABELNET!\n",
            "load data and clean it to make vocabs\n"
          ],
          "name": "stdout"
        },
        {
          "output_type": "stream",
          "text": [
            "37176it [00:00, 207677.31it/s]\n",
            "37176it [00:00, 175210.01it/s]\n",
            "92601it [00:00, 748746.93it/s]\n",
            "117653it [00:00, 783440.07it/s]\n",
            "117659it [00:00, 677431.89it/s]\n",
            "5494it [00:00, 347795.01it/s]\n"
          ],
          "name": "stderr"
        },
        {
          "output_type": "stream",
          "text": [
            "create wordnet to babelnet mapping\n",
            "load input test\n",
            "numero di instances  1022\n",
            "create vocabs\n",
            "tokenize test data\n",
            "build model\n",
            "Creating 2 BLSTM multitask\n",
            "load weights\n"
          ],
          "name": "stdout"
        },
        {
          "output_type": "stream",
          "text": [
            "\r  0%|          | 0/138 [00:00<?, ?it/s]"
          ],
          "name": "stderr"
        },
        {
          "output_type": "stream",
          "text": [
            "predict the test\n"
          ],
          "name": "stdout"
        },
        {
          "output_type": "stream",
          "text": [
            "100%|██████████| 138/138 [00:09<00:00, 18.89it/s]\n",
            "37176it [00:00, 218351.53it/s]\n",
            "0it [00:00, ?it/s]"
          ],
          "name": "stderr"
        },
        {
          "output_type": "stream",
          "text": [
            "mfs:  190  /  1022\n",
            "write result on file\n",
            "create file in: output/semeval2015.babelnet.output.txt\n",
            "Done!\n",
            "PREDICT WORDNET DOMAINS!\n",
            "load data and clean it to make vocabs\n"
          ],
          "name": "stdout"
        },
        {
          "output_type": "stream",
          "text": [
            "37176it [00:00, 167612.55it/s]\n",
            "92601it [00:00, 734594.00it/s]\n",
            "117653it [00:00, 764197.99it/s]\n",
            "117659it [00:00, 668073.14it/s]\n",
            "0it [00:00, ?it/s]"
          ],
          "name": "stderr"
        },
        {
          "output_type": "stream",
          "text": [
            "create wordnet to babelnet mapping\n",
            "load input test\n"
          ],
          "name": "stdout"
        },
        {
          "output_type": "stream",
          "text": [
            "\r5494it [00:00, 295907.57it/s]\n"
          ],
          "name": "stderr"
        },
        {
          "output_type": "stream",
          "text": [
            "numero di instances  1022\n",
            "create vocabs\n",
            "tokenize test data\n",
            "build model\n",
            "Creating 2 BLSTM multitask\n",
            "load weights\n"
          ],
          "name": "stdout"
        },
        {
          "output_type": "stream",
          "text": [
            "\r  0%|          | 0/138 [00:00<?, ?it/s]"
          ],
          "name": "stderr"
        },
        {
          "output_type": "stream",
          "text": [
            "predict the test\n"
          ],
          "name": "stdout"
        },
        {
          "output_type": "stream",
          "text": [
            "100%|██████████| 138/138 [00:09<00:00, 20.36it/s]\n",
            "19683it [00:00, 194311.36it/s]"
          ],
          "name": "stderr"
        },
        {
          "output_type": "stream",
          "text": [
            "MFS SU TOT WORDS:  150  /  1022\n",
            "write result on file\n",
            "create file in: output/semeval2015.wndomains.output.txt\n",
            "Done!\n",
            "PREDICT LEXNAMES!\n",
            "load data and clean it to make vocabs\n"
          ],
          "name": "stdout"
        },
        {
          "output_type": "stream",
          "text": [
            "37176it [00:00, 200388.94it/s]\n",
            "37176it [00:00, 200031.62it/s]\n",
            "92601it [00:00, 708719.56it/s]\n",
            "117653it [00:00, 742939.72it/s]\n",
            "117659it [00:00, 607609.77it/s]\n",
            "0it [00:00, ?it/s]"
          ],
          "name": "stderr"
        },
        {
          "output_type": "stream",
          "text": [
            "create wordnet to babelnet mapping\n",
            "load input test\n"
          ],
          "name": "stdout"
        },
        {
          "output_type": "stream",
          "text": [
            "\r5494it [00:00, 211808.61it/s]\n"
          ],
          "name": "stderr"
        },
        {
          "output_type": "stream",
          "text": [
            "numero di instances  1022\n",
            "create vocabs\n",
            "tokenize test data\n",
            "build model\n",
            "Creating 2 BLSTM multitask\n",
            "load weights\n"
          ],
          "name": "stdout"
        },
        {
          "output_type": "stream",
          "text": [
            "\r  0%|          | 0/138 [00:00<?, ?it/s]"
          ],
          "name": "stderr"
        },
        {
          "output_type": "stream",
          "text": [
            "predict the test\n"
          ],
          "name": "stdout"
        },
        {
          "output_type": "stream",
          "text": [
            "100%|██████████| 138/138 [00:09<00:00, 19.20it/s]\n",
            "37176it [00:00, 222872.89it/s]\n",
            "0it [00:00, ?it/s]"
          ],
          "name": "stderr"
        },
        {
          "output_type": "stream",
          "text": [
            "MFS SU TOT WORDS:  190  /  1022\n",
            "write result on file\n",
            "create file in: output/semeval2015.lexnames.output.txt\n",
            "Done!\n",
            "PREDICT MFS BN!\n",
            "load data and clean it to make vocabs\n"
          ],
          "name": "stdout"
        },
        {
          "output_type": "stream",
          "text": [
            "37176it [00:00, 171442.29it/s]\n",
            "92601it [00:00, 732114.03it/s]\n",
            "117653it [00:00, 766793.80it/s]\n",
            "57782it [00:00, 577817.80it/s]"
          ],
          "name": "stderr"
        },
        {
          "output_type": "stream",
          "text": [
            "create wordnet to babelnet mapping\n"
          ],
          "name": "stdout"
        },
        {
          "output_type": "stream",
          "text": [
            "117659it [00:00, 591004.49it/s]\n",
            "5494it [00:00, 271045.86it/s]\n"
          ],
          "name": "stderr"
        },
        {
          "output_type": "stream",
          "text": [
            "load input test\n",
            "numero di instances  1022\n",
            "create vocabs\n"
          ],
          "name": "stdout"
        },
        {
          "output_type": "stream",
          "text": [
            "22901it [00:00, 229006.40it/s]"
          ],
          "name": "stderr"
        },
        {
          "output_type": "stream",
          "text": [
            "tokenize test data\n",
            "predict the test\n",
            "MFS SU TOT WORDS:  1022  /  1022\n",
            "write result on file\n",
            "create file in: output/semeval2015.bn.mfs.output.txt\n",
            "Done!\n",
            "PREDICT MFS BN!\n",
            "load data and clean it to make vocabs\n"
          ],
          "name": "stdout"
        },
        {
          "output_type": "stream",
          "text": [
            "37176it [00:00, 222458.89it/s]\n",
            "37176it [00:00, 197880.98it/s]\n",
            "92601it [00:00, 721227.26it/s]\n",
            "117653it [00:00, 795570.43it/s]\n",
            "117659it [00:00, 735196.36it/s]\n",
            "5494it [00:00, 291797.07it/s]\n"
          ],
          "name": "stderr"
        },
        {
          "output_type": "stream",
          "text": [
            "create wordnet to babelnet mapping\n",
            "load input test\n",
            "numero di instances  1022\n",
            "create vocabs\n"
          ],
          "name": "stdout"
        },
        {
          "output_type": "stream",
          "text": [
            "22641it [00:00, 226403.74it/s]"
          ],
          "name": "stderr"
        },
        {
          "output_type": "stream",
          "text": [
            "tokenize test data\n",
            "predict the test\n",
            "MFS SU TOT WORDS:  1022  /  1022\n",
            "write result on file\n",
            "create file in: output/semeval2015.dom.mfs.output.txt\n",
            "Done!\n",
            "PREDICT MFS BN!\n",
            "load data and clean it to make vocabs\n"
          ],
          "name": "stdout"
        },
        {
          "output_type": "stream",
          "text": [
            "37176it [00:00, 200261.29it/s]\n",
            "37176it [00:00, 174247.87it/s]\n",
            "92601it [00:00, 775820.61it/s]\n",
            "117653it [00:00, 835497.59it/s]\n",
            "117659it [00:00, 776877.76it/s]\n",
            "5494it [00:00, 298614.79it/s]\n"
          ],
          "name": "stderr"
        },
        {
          "output_type": "stream",
          "text": [
            "create wordnet to babelnet mapping\n",
            "load input test\n",
            "numero di instances  1022\n",
            "create vocabs\n"
          ],
          "name": "stdout"
        },
        {
          "output_type": "stream",
          "text": [
            "24488it [00:00, 244877.90it/s]"
          ],
          "name": "stderr"
        },
        {
          "output_type": "stream",
          "text": [
            "tokenize test data\n",
            "predict the test\n",
            "MFS SU TOT WORDS:  1022  /  1022\n",
            "write result on file\n",
            "create file in: output/semeval2015.lex.mfs.output.txt\n",
            "Done!\n",
            "Done!\n",
            "predict on dataset senseval2.data.xml ...\n",
            "PREDICT BABELNET!\n",
            "load data and clean it to make vocabs\n"
          ],
          "name": "stdout"
        },
        {
          "output_type": "stream",
          "text": [
            "37176it [00:00, 234878.60it/s]\n",
            "37176it [00:00, 214792.96it/s]\n",
            "92601it [00:00, 801894.39it/s]\n",
            "117653it [00:00, 735080.02it/s]\n",
            "117659it [00:00, 643461.45it/s]\n",
            "0it [00:00, ?it/s]"
          ],
          "name": "stderr"
        },
        {
          "output_type": "stream",
          "text": [
            "create wordnet to babelnet mapping\n",
            "load input test\n"
          ],
          "name": "stdout"
        },
        {
          "output_type": "stream",
          "text": [
            "\r12024it [00:00, 287594.66it/s]\n"
          ],
          "name": "stderr"
        },
        {
          "output_type": "stream",
          "text": [
            "numero di instances  2282\n",
            "create vocabs\n",
            "tokenize test data\n",
            "build model\n",
            "Creating 2 BLSTM multitask\n",
            "load weights\n"
          ],
          "name": "stdout"
        },
        {
          "output_type": "stream",
          "text": [
            "\r  0%|          | 0/242 [00:00<?, ?it/s]"
          ],
          "name": "stderr"
        },
        {
          "output_type": "stream",
          "text": [
            "predict the test\n"
          ],
          "name": "stdout"
        },
        {
          "output_type": "stream",
          "text": [
            "100%|██████████| 242/242 [00:17<00:00, 13.56it/s]\n",
            "37176it [00:00, 217596.15it/s]\n",
            "0it [00:00, ?it/s]"
          ],
          "name": "stderr"
        },
        {
          "output_type": "stream",
          "text": [
            "mfs:  490  /  2282\n",
            "write result on file\n",
            "create file in: output/senseval2.babelnet.output.txt\n",
            "Done!\n",
            "PREDICT WORDNET DOMAINS!\n",
            "load data and clean it to make vocabs\n"
          ],
          "name": "stdout"
        },
        {
          "output_type": "stream",
          "text": [
            "37176it [00:00, 197521.78it/s]\n",
            "92601it [00:00, 746906.76it/s]\n",
            "117653it [00:00, 751342.06it/s]\n",
            "117659it [00:00, 653643.55it/s]\n",
            "0it [00:00, ?it/s]"
          ],
          "name": "stderr"
        },
        {
          "output_type": "stream",
          "text": [
            "create wordnet to babelnet mapping\n",
            "load input test\n"
          ],
          "name": "stdout"
        },
        {
          "output_type": "stream",
          "text": [
            "\r12024it [00:00, 333117.42it/s]\n"
          ],
          "name": "stderr"
        },
        {
          "output_type": "stream",
          "text": [
            "numero di instances  2282\n",
            "create vocabs\n",
            "tokenize test data\n",
            "build model\n",
            "Creating 2 BLSTM multitask\n",
            "load weights\n"
          ],
          "name": "stdout"
        },
        {
          "output_type": "stream",
          "text": [
            "\r  0%|          | 0/242 [00:00<?, ?it/s]"
          ],
          "name": "stderr"
        },
        {
          "output_type": "stream",
          "text": [
            "predict the test\n"
          ],
          "name": "stdout"
        },
        {
          "output_type": "stream",
          "text": [
            "100%|██████████| 242/242 [00:17<00:00, 17.73it/s]\n",
            "22026it [00:00, 220258.11it/s]"
          ],
          "name": "stderr"
        },
        {
          "output_type": "stream",
          "text": [
            "MFS SU TOT WORDS:  343  /  2282\n",
            "write result on file\n",
            "create file in: output/senseval2.wndomains.output.txt\n",
            "Done!\n",
            "PREDICT LEXNAMES!\n",
            "load data and clean it to make vocabs\n"
          ],
          "name": "stdout"
        },
        {
          "output_type": "stream",
          "text": [
            "37176it [00:00, 195888.26it/s]\n",
            "37176it [00:00, 196055.74it/s]\n",
            "92601it [00:00, 701633.14it/s]\n",
            "117653it [00:00, 700524.32it/s]\n",
            "63131it [00:00, 631306.09it/s]"
          ],
          "name": "stderr"
        },
        {
          "output_type": "stream",
          "text": [
            "create wordnet to babelnet mapping\n"
          ],
          "name": "stdout"
        },
        {
          "output_type": "stream",
          "text": [
            "117659it [00:00, 585850.50it/s]\n",
            "12024it [00:00, 236872.61it/s]\n"
          ],
          "name": "stderr"
        },
        {
          "output_type": "stream",
          "text": [
            "load input test\n",
            "numero di instances  2282\n",
            "create vocabs\n",
            "tokenize test data\n",
            "build model\n",
            "Creating 2 BLSTM multitask\n",
            "load weights\n"
          ],
          "name": "stdout"
        },
        {
          "output_type": "stream",
          "text": [
            "\r  0%|          | 0/242 [00:00<?, ?it/s]"
          ],
          "name": "stderr"
        },
        {
          "output_type": "stream",
          "text": [
            "predict the test\n"
          ],
          "name": "stdout"
        },
        {
          "output_type": "stream",
          "text": [
            "100%|██████████| 242/242 [00:16<00:00, 14.25it/s]\n",
            "37176it [00:00, 229894.68it/s]\n",
            "0it [00:00, ?it/s]"
          ],
          "name": "stderr"
        },
        {
          "output_type": "stream",
          "text": [
            "MFS SU TOT WORDS:  490  /  2282\n",
            "write result on file\n",
            "create file in: output/senseval2.lexnames.output.txt\n",
            "Done!\n",
            "PREDICT MFS BN!\n",
            "load data and clean it to make vocabs\n"
          ],
          "name": "stdout"
        },
        {
          "output_type": "stream",
          "text": [
            "37176it [00:00, 189068.51it/s]\n",
            "92601it [00:00, 744935.57it/s]\n",
            "117653it [00:00, 751360.36it/s]\n",
            "117659it [00:00, 683353.80it/s]\n",
            "0it [00:00, ?it/s]"
          ],
          "name": "stderr"
        },
        {
          "output_type": "stream",
          "text": [
            "create wordnet to babelnet mapping\n",
            "load input test\n"
          ],
          "name": "stdout"
        },
        {
          "output_type": "stream",
          "text": [
            "\r12024it [00:00, 336572.18it/s]\n"
          ],
          "name": "stderr"
        },
        {
          "output_type": "stream",
          "text": [
            "numero di instances  2282\n",
            "create vocabs\n"
          ],
          "name": "stdout"
        },
        {
          "output_type": "stream",
          "text": [
            "\r0it [00:00, ?it/s]"
          ],
          "name": "stderr"
        },
        {
          "output_type": "stream",
          "text": [
            "tokenize test data\n",
            "predict the test\n",
            "MFS SU TOT WORDS:  2282  /  2282\n",
            "write result on file\n",
            "create file in: output/senseval2.bn.mfs.output.txt\n",
            "Done!\n",
            "PREDICT MFS BN!\n",
            "load data and clean it to make vocabs\n"
          ],
          "name": "stdout"
        },
        {
          "output_type": "stream",
          "text": [
            "37176it [00:00, 213247.82it/s]\n",
            "37176it [00:00, 189565.00it/s]\n",
            "92601it [00:00, 738547.09it/s]\n",
            "117653it [00:00, 766405.56it/s]\n",
            "117659it [00:00, 666824.69it/s]\n",
            "0it [00:00, ?it/s]"
          ],
          "name": "stderr"
        },
        {
          "output_type": "stream",
          "text": [
            "create wordnet to babelnet mapping\n",
            "load input test\n"
          ],
          "name": "stdout"
        },
        {
          "output_type": "stream",
          "text": [
            "\r12024it [00:00, 331902.88it/s]\n"
          ],
          "name": "stderr"
        },
        {
          "output_type": "stream",
          "text": [
            "numero di instances  2282\n",
            "create vocabs\n"
          ],
          "name": "stdout"
        },
        {
          "output_type": "stream",
          "text": [
            "\r0it [00:00, ?it/s]"
          ],
          "name": "stderr"
        },
        {
          "output_type": "stream",
          "text": [
            "tokenize test data\n",
            "predict the test\n",
            "MFS SU TOT WORDS:  2282  /  2282\n",
            "write result on file\n",
            "create file in: output/senseval2.dom.mfs.output.txt\n",
            "Done!\n",
            "PREDICT MFS BN!\n",
            "load data and clean it to make vocabs\n"
          ],
          "name": "stdout"
        },
        {
          "output_type": "stream",
          "text": [
            "37176it [00:00, 190558.85it/s]\n",
            "37176it [00:00, 161352.94it/s]\n",
            "92601it [00:00, 728473.82it/s]\n",
            "117653it [00:00, 643766.92it/s]\n",
            "117659it [00:00, 655151.71it/s]\n",
            "0it [00:00, ?it/s]"
          ],
          "name": "stderr"
        },
        {
          "output_type": "stream",
          "text": [
            "create wordnet to babelnet mapping\n",
            "load input test\n"
          ],
          "name": "stdout"
        },
        {
          "output_type": "stream",
          "text": [
            "\r12024it [00:00, 347083.76it/s]\n"
          ],
          "name": "stderr"
        },
        {
          "output_type": "stream",
          "text": [
            "numero di instances  2282\n",
            "create vocabs\n"
          ],
          "name": "stdout"
        },
        {
          "output_type": "stream",
          "text": [
            "\r0it [00:00, ?it/s]"
          ],
          "name": "stderr"
        },
        {
          "output_type": "stream",
          "text": [
            "tokenize test data\n",
            "predict the test\n",
            "MFS SU TOT WORDS:  2282  /  2282\n",
            "write result on file\n",
            "create file in: output/senseval2.lex.mfs.output.txt\n",
            "Done!\n",
            "Done!\n",
            "predict on dataset senseval3.data.xml ...\n",
            "PREDICT BABELNET!\n",
            "load data and clean it to make vocabs\n"
          ],
          "name": "stdout"
        },
        {
          "output_type": "stream",
          "text": [
            "37176it [00:00, 204102.33it/s]\n",
            "37176it [00:00, 204846.41it/s]\n",
            "92601it [00:00, 707509.88it/s]\n",
            "117653it [00:00, 727979.35it/s]\n",
            "117659it [00:00, 654434.08it/s]\n",
            "0it [00:00, ?it/s]"
          ],
          "name": "stderr"
        },
        {
          "output_type": "stream",
          "text": [
            "create wordnet to babelnet mapping\n",
            "load input test\n"
          ],
          "name": "stdout"
        },
        {
          "output_type": "stream",
          "text": [
            "\r11794it [00:00, 355910.33it/s]\n"
          ],
          "name": "stderr"
        },
        {
          "output_type": "stream",
          "text": [
            "numero di instances  1850\n",
            "create vocabs\n",
            "tokenize test data\n",
            "build model\n",
            "Creating 2 BLSTM multitask\n",
            "load weights\n"
          ],
          "name": "stdout"
        },
        {
          "output_type": "stream",
          "text": [
            "\r  0%|          | 0/352 [00:00<?, ?it/s]"
          ],
          "name": "stderr"
        },
        {
          "output_type": "stream",
          "text": [
            "predict the test\n"
          ],
          "name": "stdout"
        },
        {
          "output_type": "stream",
          "text": [
            "100%|██████████| 352/352 [00:17<00:00, 20.38it/s]\n",
            "37176it [00:00, 217536.65it/s]\n",
            "17017it [00:00, 170168.13it/s]"
          ],
          "name": "stderr"
        },
        {
          "output_type": "stream",
          "text": [
            "mfs:  322  /  1850\n",
            "write result on file\n",
            "create file in: output/senseval3.babelnet.output.txt\n",
            "Done!\n",
            "PREDICT WORDNET DOMAINS!\n",
            "load data and clean it to make vocabs\n"
          ],
          "name": "stdout"
        },
        {
          "output_type": "stream",
          "text": [
            "37176it [00:00, 169870.04it/s]\n",
            "92601it [00:00, 754693.06it/s]\n",
            "117653it [00:00, 712746.89it/s]\n",
            "117659it [00:00, 623928.65it/s]\n",
            "0it [00:00, ?it/s]"
          ],
          "name": "stderr"
        },
        {
          "output_type": "stream",
          "text": [
            "create wordnet to babelnet mapping\n",
            "load input test\n"
          ],
          "name": "stdout"
        },
        {
          "output_type": "stream",
          "text": [
            "\r11794it [00:00, 304105.48it/s]\n"
          ],
          "name": "stderr"
        },
        {
          "output_type": "stream",
          "text": [
            "numero di instances  1850\n",
            "create vocabs\n",
            "tokenize test data\n",
            "build model\n",
            "Creating 2 BLSTM multitask\n",
            "load weights\n"
          ],
          "name": "stdout"
        },
        {
          "output_type": "stream",
          "text": [
            "\r  0%|          | 0/352 [00:00<?, ?it/s]"
          ],
          "name": "stderr"
        },
        {
          "output_type": "stream",
          "text": [
            "predict the test\n"
          ],
          "name": "stdout"
        },
        {
          "output_type": "stream",
          "text": [
            "100%|██████████| 352/352 [00:16<00:00, 21.71it/s]\n",
            "37176it [00:00, 212158.89it/s]\n",
            "0it [00:00, ?it/s]"
          ],
          "name": "stderr"
        },
        {
          "output_type": "stream",
          "text": [
            "MFS SU TOT WORDS:  230  /  1850\n",
            "write result on file\n",
            "create file in: output/senseval3.wndomains.output.txt\n",
            "Done!\n",
            "PREDICT LEXNAMES!\n",
            "load data and clean it to make vocabs\n"
          ],
          "name": "stdout"
        },
        {
          "output_type": "stream",
          "text": [
            "37176it [00:00, 167177.49it/s]\n",
            "92601it [00:00, 723856.42it/s]\n",
            "117653it [00:00, 677902.64it/s]\n",
            "117659it [00:00, 646572.32it/s]\n",
            "0it [00:00, ?it/s]"
          ],
          "name": "stderr"
        },
        {
          "output_type": "stream",
          "text": [
            "create wordnet to babelnet mapping\n",
            "load input test\n"
          ],
          "name": "stdout"
        },
        {
          "output_type": "stream",
          "text": [
            "\r11794it [00:00, 308311.29it/s]\n"
          ],
          "name": "stderr"
        },
        {
          "output_type": "stream",
          "text": [
            "numero di instances  1850\n",
            "create vocabs\n",
            "tokenize test data\n",
            "build model\n",
            "Creating 2 BLSTM multitask\n",
            "load weights\n"
          ],
          "name": "stdout"
        },
        {
          "output_type": "stream",
          "text": [
            "\r  0%|          | 0/352 [00:00<?, ?it/s]"
          ],
          "name": "stderr"
        },
        {
          "output_type": "stream",
          "text": [
            "predict the test\n"
          ],
          "name": "stdout"
        },
        {
          "output_type": "stream",
          "text": [
            "100%|██████████| 352/352 [00:17<00:00, 37.65it/s]\n",
            "37176it [00:00, 231281.16it/s]\n",
            "16683it [00:00, 166808.29it/s]"
          ],
          "name": "stderr"
        },
        {
          "output_type": "stream",
          "text": [
            "MFS SU TOT WORDS:  322  /  1850\n",
            "write result on file\n",
            "create file in: output/senseval3.lexnames.output.txt\n",
            "Done!\n",
            "PREDICT MFS BN!\n",
            "load data and clean it to make vocabs\n"
          ],
          "name": "stdout"
        },
        {
          "output_type": "stream",
          "text": [
            "37176it [00:00, 174661.26it/s]\n",
            "92601it [00:00, 678370.12it/s]\n",
            "117653it [00:00, 743916.35it/s]\n",
            "117659it [00:00, 623869.49it/s]\n",
            "0it [00:00, ?it/s]"
          ],
          "name": "stderr"
        },
        {
          "output_type": "stream",
          "text": [
            "create wordnet to babelnet mapping\n",
            "load input test\n"
          ],
          "name": "stdout"
        },
        {
          "output_type": "stream",
          "text": [
            "\r11794it [00:00, 356672.49it/s]\n"
          ],
          "name": "stderr"
        },
        {
          "output_type": "stream",
          "text": [
            "numero di instances  1850\n",
            "create vocabs\n"
          ],
          "name": "stdout"
        },
        {
          "output_type": "stream",
          "text": [
            "\r0it [00:00, ?it/s]"
          ],
          "name": "stderr"
        },
        {
          "output_type": "stream",
          "text": [
            "tokenize test data\n",
            "predict the test\n",
            "MFS SU TOT WORDS:  1850  /  1850\n",
            "write result on file\n",
            "create file in: output/senseval3.bn.mfs.output.txt\n",
            "Done!\n",
            "PREDICT MFS BN!\n",
            "load data and clean it to make vocabs\n"
          ],
          "name": "stdout"
        },
        {
          "output_type": "stream",
          "text": [
            "37176it [00:00, 226658.50it/s]\n",
            "37176it [00:00, 190527.88it/s]\n",
            "92601it [00:00, 756940.46it/s]\n",
            "117653it [00:00, 781386.99it/s]\n",
            "117659it [00:00, 690780.33it/s]\n",
            "0it [00:00, ?it/s]"
          ],
          "name": "stderr"
        },
        {
          "output_type": "stream",
          "text": [
            "create wordnet to babelnet mapping\n",
            "load input test\n"
          ],
          "name": "stdout"
        },
        {
          "output_type": "stream",
          "text": [
            "\r11794it [00:00, 326226.10it/s]\n"
          ],
          "name": "stderr"
        },
        {
          "output_type": "stream",
          "text": [
            "numero di instances  1850\n",
            "create vocabs\n"
          ],
          "name": "stdout"
        },
        {
          "output_type": "stream",
          "text": [
            "22589it [00:00, 225889.68it/s]"
          ],
          "name": "stderr"
        },
        {
          "output_type": "stream",
          "text": [
            "tokenize test data\n",
            "predict the test\n",
            "MFS SU TOT WORDS:  1850  /  1850\n",
            "write result on file\n",
            "create file in: output/senseval3.dom.mfs.output.txt\n",
            "Done!\n",
            "PREDICT MFS BN!\n",
            "load data and clean it to make vocabs\n"
          ],
          "name": "stdout"
        },
        {
          "output_type": "stream",
          "text": [
            "37176it [00:00, 222581.79it/s]\n",
            "37176it [00:00, 179114.74it/s]\n",
            "92601it [00:00, 790370.47it/s]\n",
            "117653it [00:00, 805807.44it/s]\n",
            "117659it [00:00, 692320.21it/s]\n",
            "0it [00:00, ?it/s]"
          ],
          "name": "stderr"
        },
        {
          "output_type": "stream",
          "text": [
            "create wordnet to babelnet mapping\n",
            "load input test\n"
          ],
          "name": "stdout"
        },
        {
          "output_type": "stream",
          "text": [
            "\r11794it [00:00, 335182.82it/s]\n"
          ],
          "name": "stderr"
        },
        {
          "output_type": "stream",
          "text": [
            "numero di instances  1850\n",
            "create vocabs\n",
            "tokenize test data\n",
            "predict the test\n",
            "MFS SU TOT WORDS:  1850  /  1850\n",
            "write result on file\n",
            "create file in: output/senseval3.lex.mfs.output.txt\n",
            "Done!\n",
            "Done!\n"
          ],
          "name": "stdout"
        }
      ]
    },
    {
      "cell_type": "code",
      "metadata": {
        "id": "tlW6iGcOFpzn",
        "colab_type": "code",
        "outputId": "649ec926-962e-4399-9815-dc850b7869bd",
        "colab": {
          "base_uri": "https://localhost:8080/",
          "height": 646
        }
      },
      "source": [
        "!tar -zcvf output.tar.gz output"
      ],
      "execution_count": 0,
      "outputs": [
        {
          "output_type": "stream",
          "text": [
            "output/\n",
            "output/senseval2.lex.mfs.output.txt\n",
            "output/semeval2015.babelnet.output.txt\n",
            "output/ALL.wndomains.output.txt\n",
            "output/ALL.lexnames.output.txt\n",
            "output/semeval2015.bn.mfs.output.txt\n",
            "output/senseval2.bn.mfs.output.txt\n",
            "output/semeval2007.lex.mfs.output.txt\n",
            "output/ALL.dom.mfs.output.txt\n",
            "output/senseval2.lexnames.output.txt\n",
            "output/senseval3.bn.mfs.output.txt\n",
            "output/semeval2015.lex.mfs.output.txt\n",
            "output/semeval2007.lexnames.output.txt\n",
            "output/ALL.bn.mfs.output.txt\n",
            "output/semeval2007.bn.mfs.output.txt\n",
            "output/senseval3.wndomains.output.txt\n",
            "output/semeval2007.babelnet.output.txt\n",
            "output/semeval2013.lex.mfs.output.txt\n",
            "output/semeval2007.dom.mfs.output.txt\n",
            "output/semeval2013.dom.mfs.output.txt\n",
            "output/semeval2013.wndomains.output.txt\n",
            "output/semeval2013.lexnames.output.txt\n",
            "output/semeval2015.wndomains.output.txt\n",
            "output/senseval3.lexnames.output.txt\n",
            "output/senseval3.dom.mfs.output.txt\n",
            "output/ALL.lex.mfs.output.txt\n",
            "output/senseval3.babelnet.output.txt\n",
            "output/senseval2.wndomains.output.txt\n",
            "output/senseval2.dom.mfs.output.txt\n",
            "output/semeval2015.dom.mfs.output.txt\n",
            "output/senseval3.lex.mfs.output.txt\n",
            "output/semeval2007.wndomains.output.txt\n",
            "output/semeval2015.lexnames.output.txt\n",
            "output/semeval2013.babelnet.output.txt\n",
            "output/senseval2.babelnet.output.txt\n",
            "output/ALL.babelnet.output.txt\n",
            "output/semeval2013.bn.mfs.output.txt\n"
          ],
          "name": "stdout"
        }
      ]
    },
    {
      "cell_type": "code",
      "metadata": {
        "id": "fU_oogTZL28V",
        "colab_type": "code",
        "colab": {}
      },
      "source": [
        "def verify_similarity(file_test,file_output):\n",
        "  output = []\n",
        "  test = []\n",
        "  with open(file_test,\"r\",encoding=\"utf-8\") as t:\n",
        "    for sentence in t:\n",
        "      test.append(sentence.split(\" \")[0])\n",
        "    t.close()\n",
        "  with open(file_output,\"r\",encoding=\"utf-8\") as o:\n",
        "    for sentence in o:\n",
        "      output.append(sentence.split(\" \")[0])\n",
        "    o.close()\n",
        "  for x in test:\n",
        "    if x not in output:\n",
        "      print(x)\n",
        "    "
      ],
      "execution_count": 0,
      "outputs": []
    },
    {
      "cell_type": "code",
      "metadata": {
        "id": "jy-oFR7jOZYi",
        "colab_type": "code",
        "colab": {}
      },
      "source": [
        "#ALL senseval3.d000.s118.t005\n",
        "#semeval2013 d001.s013.t000\n",
        "#senseval2 d001.s010.t010\n",
        "#senseval3 d002.s109.t004\n",
        "verify_similarity(\"training_on_colab/test/senseval2.gold.babelnet.txt\",\"output/senseval2.babelnet.output.txt\")"
      ],
      "execution_count": 0,
      "outputs": []
    }
  ]
}